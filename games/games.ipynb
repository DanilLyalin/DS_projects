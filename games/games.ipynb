{
 "cells": [
  {
   "cell_type": "markdown",
   "metadata": {},
   "source": [
    "# Исследование данных о всемирных продажах компьютерных игр\n",
    "\n",
    "Данная работа посвящена исследованию исторических данных о продажах игр, полученных из открытых источников. Необходимо выявить закономерности, определяющие успешность игры. Это позволит определить потенциально популярный продукт и спланировать рекламные кампании некоего условного интернет-магазина.\n",
    "\n",
    "Полученные данные покрывают временной период вплоть до 2016 г. Представим, что сейчас декабрь 2016 г., и мы планируем кампанию на 2017-й. При этом данные за 2016 год могут быть неполными.\n",
    "\n",
    "[Страница датасета на Kaggle](https://www.kaggle.com/datasets/gregorut/videogamesales)\n",
    "\n",
    "Описание данных:\n",
    "- **Name** — название игры\n",
    "- **Platform** — платформа\n",
    "- **Year_of_Release** — год выпуска\n",
    "- **Genre** — жанр игры\n",
    "- **NA_sales** — продажи в Северной Америке (миллионы проданных копий)\n",
    "- **EU_sales** — продажи в Европе (миллионы проданных копий)\n",
    "- **JP_sales** — продажи в Японии (миллионы проданных копий)\n",
    "- **Other_sales** — продажи в других странах (миллионы проданных копий)\n",
    "- **Critic_Score** — оценка критиков (максимум 100)\n",
    "- **User_Score** — оценка пользователей (максимум 10)\n",
    "- **Rating** — рейтинг от организации ESRB (англ. Entertainment Software Rating Board). Эта ассоциация определяет рейтинг компьютерных игр и присваивает им подходящую возрастную категорию.\n",
    "\n",
    "Предполагаемый план работы:\n",
    "1. Открытие данных и корректное их чтение\n",
    "2. Подготовка данных\n",
    "3. Исследовательский анализ данных\n",
    "4. Составление портрета пользователя каждого региона\n",
    "5. Проверка гипотез, связанных со средними пользовательскими рейтингами\n",
    "6. Формирование общего вывода"
   ]
  },
  {
   "cell_type": "markdown",
   "metadata": {},
   "source": [
    "### Открытие данных и корректное их чтение"
   ]
  },
  {
   "cell_type": "markdown",
   "metadata": {},
   "source": [
    "Импортируем библиотеки и подгрузим данные в датафрейм:"
   ]
  },
  {
   "cell_type": "code",
   "execution_count": 206,
   "metadata": {},
   "outputs": [],
   "source": [
    "import os\n",
    "import pandas as pd\n",
    "from scipy import stats as st\n",
    "import matplotlib.pyplot as plt \n",
    "%matplotlib inline"
   ]
  },
  {
   "cell_type": "code",
   "execution_count": 207,
   "metadata": {},
   "outputs": [],
   "source": [
    "pth1 = '/datasets/games.csv'\n",
    "\n",
    "if os.path.exists(pth1):\n",
    "    data = pd.read_csv(pth1)\n",
    "else:\n",
    "    print('Error in importing data')"
   ]
  },
  {
   "cell_type": "code",
   "execution_count": 208,
   "metadata": {},
   "outputs": [
    {
     "data": {
      "text/html": [
       "<div>\n",
       "<style scoped>\n",
       "    .dataframe tbody tr th:only-of-type {\n",
       "        vertical-align: middle;\n",
       "    }\n",
       "\n",
       "    .dataframe tbody tr th {\n",
       "        vertical-align: top;\n",
       "    }\n",
       "\n",
       "    .dataframe thead th {\n",
       "        text-align: right;\n",
       "    }\n",
       "</style>\n",
       "<table border=\"1\" class=\"dataframe\">\n",
       "  <thead>\n",
       "    <tr style=\"text-align: right;\">\n",
       "      <th></th>\n",
       "      <th>Name</th>\n",
       "      <th>Platform</th>\n",
       "      <th>Year_of_Release</th>\n",
       "      <th>Genre</th>\n",
       "      <th>NA_sales</th>\n",
       "      <th>EU_sales</th>\n",
       "      <th>JP_sales</th>\n",
       "      <th>Other_sales</th>\n",
       "      <th>Critic_Score</th>\n",
       "      <th>User_Score</th>\n",
       "      <th>Rating</th>\n",
       "    </tr>\n",
       "  </thead>\n",
       "  <tbody>\n",
       "    <tr>\n",
       "      <th>0</th>\n",
       "      <td>Wii Sports</td>\n",
       "      <td>Wii</td>\n",
       "      <td>2006.0</td>\n",
       "      <td>Sports</td>\n",
       "      <td>41.36</td>\n",
       "      <td>28.96</td>\n",
       "      <td>3.77</td>\n",
       "      <td>8.45</td>\n",
       "      <td>76.0</td>\n",
       "      <td>8</td>\n",
       "      <td>E</td>\n",
       "    </tr>\n",
       "    <tr>\n",
       "      <th>1</th>\n",
       "      <td>Super Mario Bros.</td>\n",
       "      <td>NES</td>\n",
       "      <td>1985.0</td>\n",
       "      <td>Platform</td>\n",
       "      <td>29.08</td>\n",
       "      <td>3.58</td>\n",
       "      <td>6.81</td>\n",
       "      <td>0.77</td>\n",
       "      <td>NaN</td>\n",
       "      <td>NaN</td>\n",
       "      <td>NaN</td>\n",
       "    </tr>\n",
       "    <tr>\n",
       "      <th>2</th>\n",
       "      <td>Mario Kart Wii</td>\n",
       "      <td>Wii</td>\n",
       "      <td>2008.0</td>\n",
       "      <td>Racing</td>\n",
       "      <td>15.68</td>\n",
       "      <td>12.76</td>\n",
       "      <td>3.79</td>\n",
       "      <td>3.29</td>\n",
       "      <td>82.0</td>\n",
       "      <td>8.3</td>\n",
       "      <td>E</td>\n",
       "    </tr>\n",
       "    <tr>\n",
       "      <th>3</th>\n",
       "      <td>Wii Sports Resort</td>\n",
       "      <td>Wii</td>\n",
       "      <td>2009.0</td>\n",
       "      <td>Sports</td>\n",
       "      <td>15.61</td>\n",
       "      <td>10.93</td>\n",
       "      <td>3.28</td>\n",
       "      <td>2.95</td>\n",
       "      <td>80.0</td>\n",
       "      <td>8</td>\n",
       "      <td>E</td>\n",
       "    </tr>\n",
       "    <tr>\n",
       "      <th>4</th>\n",
       "      <td>Pokemon Red/Pokemon Blue</td>\n",
       "      <td>GB</td>\n",
       "      <td>1996.0</td>\n",
       "      <td>Role-Playing</td>\n",
       "      <td>11.27</td>\n",
       "      <td>8.89</td>\n",
       "      <td>10.22</td>\n",
       "      <td>1.00</td>\n",
       "      <td>NaN</td>\n",
       "      <td>NaN</td>\n",
       "      <td>NaN</td>\n",
       "    </tr>\n",
       "  </tbody>\n",
       "</table>\n",
       "</div>"
      ],
      "text/plain": [
       "                       Name Platform  Year_of_Release         Genre  NA_sales  \\\n",
       "0                Wii Sports      Wii           2006.0        Sports     41.36   \n",
       "1         Super Mario Bros.      NES           1985.0      Platform     29.08   \n",
       "2            Mario Kart Wii      Wii           2008.0        Racing     15.68   \n",
       "3         Wii Sports Resort      Wii           2009.0        Sports     15.61   \n",
       "4  Pokemon Red/Pokemon Blue       GB           1996.0  Role-Playing     11.27   \n",
       "\n",
       "   EU_sales  JP_sales  Other_sales  Critic_Score User_Score Rating  \n",
       "0     28.96      3.77         8.45          76.0          8      E  \n",
       "1      3.58      6.81         0.77           NaN        NaN    NaN  \n",
       "2     12.76      3.79         3.29          82.0        8.3      E  \n",
       "3     10.93      3.28         2.95          80.0          8      E  \n",
       "4      8.89     10.22         1.00           NaN        NaN    NaN  "
      ]
     },
     "execution_count": 208,
     "metadata": {},
     "output_type": "execute_result"
    }
   ],
   "source": [
    "data.head()"
   ]
  },
  {
   "cell_type": "markdown",
   "metadata": {},
   "source": [
    "Данные считаны корректно, изучим их общую информацию"
   ]
  },
  {
   "cell_type": "code",
   "execution_count": 209,
   "metadata": {},
   "outputs": [
    {
     "name": "stdout",
     "output_type": "stream",
     "text": [
      "<class 'pandas.core.frame.DataFrame'>\n",
      "RangeIndex: 16715 entries, 0 to 16714\n",
      "Data columns (total 11 columns):\n",
      " #   Column           Non-Null Count  Dtype  \n",
      "---  ------           --------------  -----  \n",
      " 0   Name             16713 non-null  object \n",
      " 1   Platform         16715 non-null  object \n",
      " 2   Year_of_Release  16446 non-null  float64\n",
      " 3   Genre            16713 non-null  object \n",
      " 4   NA_sales         16715 non-null  float64\n",
      " 5   EU_sales         16715 non-null  float64\n",
      " 6   JP_sales         16715 non-null  float64\n",
      " 7   Other_sales      16715 non-null  float64\n",
      " 8   Critic_Score     8137 non-null   float64\n",
      " 9   User_Score       10014 non-null  object \n",
      " 10  Rating           9949 non-null   object \n",
      "dtypes: float64(6), object(5)\n",
      "memory usage: 1.4+ MB\n"
     ]
    }
   ],
   "source": [
    "data.info()"
   ]
  },
  {
   "cell_type": "code",
   "execution_count": 210,
   "metadata": {},
   "outputs": [
    {
     "data": {
      "text/html": [
       "<div>\n",
       "<style scoped>\n",
       "    .dataframe tbody tr th:only-of-type {\n",
       "        vertical-align: middle;\n",
       "    }\n",
       "\n",
       "    .dataframe tbody tr th {\n",
       "        vertical-align: top;\n",
       "    }\n",
       "\n",
       "    .dataframe thead th {\n",
       "        text-align: right;\n",
       "    }\n",
       "</style>\n",
       "<table border=\"1\" class=\"dataframe\">\n",
       "  <thead>\n",
       "    <tr style=\"text-align: right;\">\n",
       "      <th></th>\n",
       "      <th>Year_of_Release</th>\n",
       "      <th>NA_sales</th>\n",
       "      <th>EU_sales</th>\n",
       "      <th>JP_sales</th>\n",
       "      <th>Other_sales</th>\n",
       "      <th>Critic_Score</th>\n",
       "    </tr>\n",
       "  </thead>\n",
       "  <tbody>\n",
       "    <tr>\n",
       "      <th>count</th>\n",
       "      <td>16446.000000</td>\n",
       "      <td>16715.000000</td>\n",
       "      <td>16715.000000</td>\n",
       "      <td>16715.000000</td>\n",
       "      <td>16715.000000</td>\n",
       "      <td>8137.000000</td>\n",
       "    </tr>\n",
       "    <tr>\n",
       "      <th>mean</th>\n",
       "      <td>2006.484616</td>\n",
       "      <td>0.263377</td>\n",
       "      <td>0.145060</td>\n",
       "      <td>0.077617</td>\n",
       "      <td>0.047342</td>\n",
       "      <td>68.967679</td>\n",
       "    </tr>\n",
       "    <tr>\n",
       "      <th>std</th>\n",
       "      <td>5.877050</td>\n",
       "      <td>0.813604</td>\n",
       "      <td>0.503339</td>\n",
       "      <td>0.308853</td>\n",
       "      <td>0.186731</td>\n",
       "      <td>13.938165</td>\n",
       "    </tr>\n",
       "    <tr>\n",
       "      <th>min</th>\n",
       "      <td>1980.000000</td>\n",
       "      <td>0.000000</td>\n",
       "      <td>0.000000</td>\n",
       "      <td>0.000000</td>\n",
       "      <td>0.000000</td>\n",
       "      <td>13.000000</td>\n",
       "    </tr>\n",
       "    <tr>\n",
       "      <th>25%</th>\n",
       "      <td>2003.000000</td>\n",
       "      <td>0.000000</td>\n",
       "      <td>0.000000</td>\n",
       "      <td>0.000000</td>\n",
       "      <td>0.000000</td>\n",
       "      <td>60.000000</td>\n",
       "    </tr>\n",
       "    <tr>\n",
       "      <th>50%</th>\n",
       "      <td>2007.000000</td>\n",
       "      <td>0.080000</td>\n",
       "      <td>0.020000</td>\n",
       "      <td>0.000000</td>\n",
       "      <td>0.010000</td>\n",
       "      <td>71.000000</td>\n",
       "    </tr>\n",
       "    <tr>\n",
       "      <th>75%</th>\n",
       "      <td>2010.000000</td>\n",
       "      <td>0.240000</td>\n",
       "      <td>0.110000</td>\n",
       "      <td>0.040000</td>\n",
       "      <td>0.030000</td>\n",
       "      <td>79.000000</td>\n",
       "    </tr>\n",
       "    <tr>\n",
       "      <th>max</th>\n",
       "      <td>2016.000000</td>\n",
       "      <td>41.360000</td>\n",
       "      <td>28.960000</td>\n",
       "      <td>10.220000</td>\n",
       "      <td>10.570000</td>\n",
       "      <td>98.000000</td>\n",
       "    </tr>\n",
       "  </tbody>\n",
       "</table>\n",
       "</div>"
      ],
      "text/plain": [
       "       Year_of_Release      NA_sales      EU_sales      JP_sales  \\\n",
       "count     16446.000000  16715.000000  16715.000000  16715.000000   \n",
       "mean       2006.484616      0.263377      0.145060      0.077617   \n",
       "std           5.877050      0.813604      0.503339      0.308853   \n",
       "min        1980.000000      0.000000      0.000000      0.000000   \n",
       "25%        2003.000000      0.000000      0.000000      0.000000   \n",
       "50%        2007.000000      0.080000      0.020000      0.000000   \n",
       "75%        2010.000000      0.240000      0.110000      0.040000   \n",
       "max        2016.000000     41.360000     28.960000     10.220000   \n",
       "\n",
       "        Other_sales  Critic_Score  \n",
       "count  16715.000000   8137.000000  \n",
       "mean       0.047342     68.967679  \n",
       "std        0.186731     13.938165  \n",
       "min        0.000000     13.000000  \n",
       "25%        0.000000     60.000000  \n",
       "50%        0.010000     71.000000  \n",
       "75%        0.030000     79.000000  \n",
       "max       10.570000     98.000000  "
      ]
     },
     "execution_count": 210,
     "metadata": {},
     "output_type": "execute_result"
    }
   ],
   "source": [
    "data.describe()"
   ]
  },
  {
   "cell_type": "markdown",
   "metadata": {},
   "source": [
    "В сумме 11 признаков, из них 4 категориальных, 6 количественных и 1 отображает дату\n",
    "При этом данные содержат записи с 1980 по 2016 год, а средняя оценка критиков - примерно 70 баллов.\n",
    "\n",
    "Как можно заметить, большое количество пропусков сосредоточено в столбцах `Critic_Score, User_Score и Rating`\n",
    "\n",
    "Для `Critic_Score` процент пропусков наибольший - 51%. Данную проблему необходимо будет решить на этапе предобработки данных. Может быть, эти данные относятся только к устаревшим наблюдениям, которые и так необходимо отбросить для формирования актуального периода.\n",
    "\n",
    "Для более глубокого понимания количественных признаков взглянем на их гистограммы распределений:"
   ]
  },
  {
   "cell_type": "code",
   "execution_count": 211,
   "metadata": {},
   "outputs": [
    {
     "data": {
      "image/png": "[encoded data removed]",
      "text/plain": [
       "<Figure size 864x864 with 4 Axes>"
      ]
     },
     "metadata": {
      "needs_background": "light"
     },
     "output_type": "display_data"
    }
   ],
   "source": [
    "data.loc[:, \"NA_sales\":\"Other_sales\"].hist(bins=50, figsize=(12, 12));"
   ]
  },
  {
   "cell_type": "code",
   "execution_count": 212,
   "metadata": {},
   "outputs": [
    {
     "data": {
      "image/png": "[encoded data removed]",
      "text/plain": [
       "<Figure size 432x288 with 1 Axes>"
      ]
     },
     "metadata": {
      "needs_background": "light"
     },
     "output_type": "display_data"
    }
   ],
   "source": [
    "data['Year_of_Release'].hist(bins=36);"
   ]
  },
  {
   "cell_type": "code",
   "execution_count": 213,
   "metadata": {},
   "outputs": [
    {
     "data": {
      "image/png": "[encoded data removed]",
      "text/plain": [
       "<Figure size 432x288 with 1 Axes>"
      ]
     },
     "metadata": {
      "needs_background": "light"
     },
     "output_type": "display_data"
    }
   ],
   "source": [
    "data['Critic_Score'].hist(bins=85);"
   ]
  },
  {
   "cell_type": "markdown",
   "metadata": {},
   "source": [
    "Из полученных графиков можно сделать следующие выводы:\n",
    "1. Признаки типа `*_sales` скорее всего содержат выбросы. Это может быть связано с некими играми с сильным коммерческим успехом. На этапе предобработки стоит оценить количество таких игр и проверить правдивость данных.\n",
    "2. `Year_Of_Release` совпадает с ожидаемым видом распределения и при этом большинство наблюдений сосредоточены в промежутке между 2000 и 2010 годами. Однако, не совсем понятно, чем обусловлен спад создания видеоигр после 2010 года. Скорее всего, неполнотой данных.\n",
    "3. `Critic_Score` тоже совпадает с ожидаемым видом, и при этом большинство игр оценивается выше среднего. Это промежуток от 60 до 80 баллов, что так же совпадает с характеристиками расположения данных, полученных ранее."
   ]
  },
  {
   "cell_type": "markdown",
   "metadata": {},
   "source": [
    "### Подготовка данных"
   ]
  },
  {
   "cell_type": "markdown",
   "metadata": {},
   "source": [
    "#### Изменение стиля оформления столбцов"
   ]
  },
  {
   "cell_type": "markdown",
   "metadata": {},
   "source": [
    "Для начала приведем названия столбцов к корректному виду\n",
    "Еще раз выведем названия всех столбцов:"
   ]
  },
  {
   "cell_type": "code",
   "execution_count": 214,
   "metadata": {},
   "outputs": [
    {
     "data": {
      "text/plain": [
       "Index(['Name', 'Platform', 'Year_of_Release', 'Genre', 'NA_sales', 'EU_sales',\n",
       "       'JP_sales', 'Other_sales', 'Critic_Score', 'User_Score', 'Rating'],\n",
       "      dtype='object')"
      ]
     },
     "execution_count": 214,
     "metadata": {},
     "output_type": "execute_result"
    }
   ],
   "source": [
    "data.columns"
   ]
  },
  {
   "cell_type": "code",
   "execution_count": 215,
   "metadata": {},
   "outputs": [],
   "source": [
    "data.columns = data.columns.str.lower()"
   ]
  },
  {
   "cell_type": "code",
   "execution_count": 216,
   "metadata": {},
   "outputs": [],
   "source": [
    "data = data.rename(columns={\n",
    "    \"year_of_release\" : \"year\"\n",
    "})"
   ]
  },
  {
   "cell_type": "code",
   "execution_count": 217,
   "metadata": {},
   "outputs": [
    {
     "data": {
      "text/plain": [
       "Index(['name', 'platform', 'year', 'genre', 'na_sales', 'eu_sales', 'jp_sales',\n",
       "       'other_sales', 'critic_score', 'user_score', 'rating'],\n",
       "      dtype='object')"
      ]
     },
     "execution_count": 217,
     "metadata": {},
     "output_type": "execute_result"
    }
   ],
   "source": [
    "data.columns"
   ]
  },
  {
   "cell_type": "markdown",
   "metadata": {},
   "source": [
    "Здесь мы привели все названия к snake_case и сократили `Year_of_Release` до `year` для упрощения.\n"
   ]
  },
  {
   "cell_type": "markdown",
   "metadata": {},
   "source": [
    "#### Изменение типов данных"
   ]
  },
  {
   "cell_type": "markdown",
   "metadata": {},
   "source": [
    "Приведем признак `year` к целочисленному, т.к. там содержится только год.\n",
    "А признак `user_score` приведем к типу с плавающей точкой, аналогично `critical_score`"
   ]
  },
  {
   "cell_type": "code",
   "execution_count": 218,
   "metadata": {},
   "outputs": [],
   "source": [
    "data[\"year\"] = data[\"year\"].astype(\"Int64\")\n",
    "data[\"user_score\"] = pd.to_numeric(data[\"user_score\"], errors='coerce')"
   ]
  },
  {
   "cell_type": "code",
   "execution_count": 219,
   "metadata": {},
   "outputs": [
    {
     "name": "stdout",
     "output_type": "stream",
     "text": [
      "<class 'pandas.core.frame.DataFrame'>\n",
      "RangeIndex: 16715 entries, 0 to 16714\n",
      "Data columns (total 11 columns):\n",
      " #   Column        Non-Null Count  Dtype  \n",
      "---  ------        --------------  -----  \n",
      " 0   name          16713 non-null  object \n",
      " 1   platform      16715 non-null  object \n",
      " 2   year          16446 non-null  Int64  \n",
      " 3   genre         16713 non-null  object \n",
      " 4   na_sales      16715 non-null  float64\n",
      " 5   eu_sales      16715 non-null  float64\n",
      " 6   jp_sales      16715 non-null  float64\n",
      " 7   other_sales   16715 non-null  float64\n",
      " 8   critic_score  8137 non-null   float64\n",
      " 9   user_score    7590 non-null   float64\n",
      " 10  rating        9949 non-null   object \n",
      "dtypes: Int64(1), float64(6), object(4)\n",
      "memory usage: 1.4+ MB\n"
     ]
    }
   ],
   "source": [
    "data.info()"
   ]
  },
  {
   "cell_type": "markdown",
   "metadata": {},
   "source": [
    "#### Удаление пропусков"
   ]
  },
  {
   "cell_type": "markdown",
   "metadata": {},
   "source": [
    "Посмотрим на количество пропусков для каждого признака:"
   ]
  },
  {
   "cell_type": "code",
   "execution_count": 220,
   "metadata": {},
   "outputs": [
    {
     "data": {
      "text/plain": [
       "user_score      9125\n",
       "critic_score    8578\n",
       "rating          6766\n",
       "year             269\n",
       "name               2\n",
       "genre              2\n",
       "platform           0\n",
       "na_sales           0\n",
       "eu_sales           0\n",
       "jp_sales           0\n",
       "other_sales        0\n",
       "dtype: int64"
      ]
     },
     "execution_count": 220,
     "metadata": {},
     "output_type": "execute_result"
    }
   ],
   "source": [
    "data.isna().sum().sort_values(ascending=False)"
   ]
  },
  {
   "cell_type": "markdown",
   "metadata": {},
   "source": [
    "И в процентах:"
   ]
  },
  {
   "cell_type": "code",
   "execution_count": 221,
   "metadata": {},
   "outputs": [
    {
     "data": {
      "text/plain": [
       "user_score      54.591684\n",
       "critic_score    51.319174\n",
       "rating          40.478612\n",
       "year             1.609333\n",
       "name             0.011965\n",
       "genre            0.011965\n",
       "platform         0.000000\n",
       "na_sales         0.000000\n",
       "eu_sales         0.000000\n",
       "jp_sales         0.000000\n",
       "other_sales      0.000000\n",
       "dtype: float64"
      ]
     },
     "execution_count": 221,
     "metadata": {},
     "output_type": "execute_result"
    }
   ],
   "source": [
    "data.isna().sum().sort_values(ascending=False) / data.shape[0] * 100"
   ]
  },
  {
   "cell_type": "markdown",
   "metadata": {},
   "source": [
    "Пропуски в признаке `year` составляют менее 2% от всех наблюдений, поэтому их (вместе с пропусками в `name` и `genre`) можно отбросить"
   ]
  },
  {
   "cell_type": "code",
   "execution_count": 222,
   "metadata": {},
   "outputs": [],
   "source": [
    "data = data.dropna(subset=[\"year\", \"name\", \"genre\"])"
   ]
  },
  {
   "cell_type": "markdown",
   "metadata": {},
   "source": [
    "Изучим пропуски в `critic_score` для поиска возможной закономерности"
   ]
  },
  {
   "cell_type": "code",
   "execution_count": 223,
   "metadata": {},
   "outputs": [
    {
     "data": {
      "image/png": "[encoded data removed]",
      "text/plain": [
       "<Figure size 432x288 with 1 Axes>"
      ]
     },
     "metadata": {
      "needs_background": "light"
     },
     "output_type": "display_data"
    }
   ],
   "source": [
    "data.loc[data['critic_score'].isna()]['year'].hist();"
   ]
  },
  {
   "cell_type": "code",
   "execution_count": 224,
   "metadata": {},
   "outputs": [
    {
     "data": {
      "text/html": [
       "<div>\n",
       "<style scoped>\n",
       "    .dataframe tbody tr th:only-of-type {\n",
       "        vertical-align: middle;\n",
       "    }\n",
       "\n",
       "    .dataframe tbody tr th {\n",
       "        vertical-align: top;\n",
       "    }\n",
       "\n",
       "    .dataframe thead th {\n",
       "        text-align: right;\n",
       "    }\n",
       "</style>\n",
       "<table border=\"1\" class=\"dataframe\">\n",
       "  <thead>\n",
       "    <tr style=\"text-align: right;\">\n",
       "      <th></th>\n",
       "      <th>year</th>\n",
       "      <th>na_sales</th>\n",
       "      <th>eu_sales</th>\n",
       "      <th>jp_sales</th>\n",
       "      <th>other_sales</th>\n",
       "      <th>critic_score</th>\n",
       "      <th>user_score</th>\n",
       "    </tr>\n",
       "  </thead>\n",
       "  <tbody>\n",
       "    <tr>\n",
       "      <th>count</th>\n",
       "      <td>7983.000000</td>\n",
       "      <td>7983.000000</td>\n",
       "      <td>7983.000000</td>\n",
       "      <td>7983.000000</td>\n",
       "      <td>7983.000000</td>\n",
       "      <td>7983.000000</td>\n",
       "      <td>6894.000000</td>\n",
       "    </tr>\n",
       "    <tr>\n",
       "      <th>mean</th>\n",
       "      <td>2007.192785</td>\n",
       "      <td>0.354536</td>\n",
       "      <td>0.209798</td>\n",
       "      <td>0.055910</td>\n",
       "      <td>0.072935</td>\n",
       "      <td>68.994363</td>\n",
       "      <td>7.184378</td>\n",
       "    </tr>\n",
       "    <tr>\n",
       "      <th>std</th>\n",
       "      <td>4.189425</td>\n",
       "      <td>0.902590</td>\n",
       "      <td>0.640720</td>\n",
       "      <td>0.267412</td>\n",
       "      <td>0.251262</td>\n",
       "      <td>13.920060</td>\n",
       "      <td>1.439806</td>\n",
       "    </tr>\n",
       "    <tr>\n",
       "      <th>min</th>\n",
       "      <td>1985.000000</td>\n",
       "      <td>0.000000</td>\n",
       "      <td>0.000000</td>\n",
       "      <td>0.000000</td>\n",
       "      <td>0.000000</td>\n",
       "      <td>13.000000</td>\n",
       "      <td>0.500000</td>\n",
       "    </tr>\n",
       "    <tr>\n",
       "      <th>25%</th>\n",
       "      <td>2004.000000</td>\n",
       "      <td>0.050000</td>\n",
       "      <td>0.010000</td>\n",
       "      <td>0.000000</td>\n",
       "      <td>0.010000</td>\n",
       "      <td>60.000000</td>\n",
       "      <td>6.500000</td>\n",
       "    </tr>\n",
       "    <tr>\n",
       "      <th>50%</th>\n",
       "      <td>2007.000000</td>\n",
       "      <td>0.130000</td>\n",
       "      <td>0.050000</td>\n",
       "      <td>0.000000</td>\n",
       "      <td>0.020000</td>\n",
       "      <td>71.000000</td>\n",
       "      <td>7.500000</td>\n",
       "    </tr>\n",
       "    <tr>\n",
       "      <th>75%</th>\n",
       "      <td>2010.000000</td>\n",
       "      <td>0.340000</td>\n",
       "      <td>0.180000</td>\n",
       "      <td>0.010000</td>\n",
       "      <td>0.060000</td>\n",
       "      <td>79.000000</td>\n",
       "      <td>8.200000</td>\n",
       "    </tr>\n",
       "    <tr>\n",
       "      <th>max</th>\n",
       "      <td>2016.000000</td>\n",
       "      <td>41.360000</td>\n",
       "      <td>28.960000</td>\n",
       "      <td>6.500000</td>\n",
       "      <td>10.570000</td>\n",
       "      <td>98.000000</td>\n",
       "      <td>9.600000</td>\n",
       "    </tr>\n",
       "  </tbody>\n",
       "</table>\n",
       "</div>"
      ],
      "text/plain": [
       "              year     na_sales     eu_sales     jp_sales  other_sales  \\\n",
       "count  7983.000000  7983.000000  7983.000000  7983.000000  7983.000000   \n",
       "mean   2007.192785     0.354536     0.209798     0.055910     0.072935   \n",
       "std       4.189425     0.902590     0.640720     0.267412     0.251262   \n",
       "min    1985.000000     0.000000     0.000000     0.000000     0.000000   \n",
       "25%    2004.000000     0.050000     0.010000     0.000000     0.010000   \n",
       "50%    2007.000000     0.130000     0.050000     0.000000     0.020000   \n",
       "75%    2010.000000     0.340000     0.180000     0.010000     0.060000   \n",
       "max    2016.000000    41.360000    28.960000     6.500000    10.570000   \n",
       "\n",
       "       critic_score   user_score  \n",
       "count   7983.000000  6894.000000  \n",
       "mean      68.994363     7.184378  \n",
       "std       13.920060     1.439806  \n",
       "min       13.000000     0.500000  \n",
       "25%       60.000000     6.500000  \n",
       "50%       71.000000     7.500000  \n",
       "75%       79.000000     8.200000  \n",
       "max       98.000000     9.600000  "
      ]
     },
     "execution_count": 224,
     "metadata": {},
     "output_type": "execute_result"
    }
   ],
   "source": [
    "data.loc[data['critic_score'].notna()].describe()"
   ]
  },
  {
   "cell_type": "code",
   "execution_count": 225,
   "metadata": {},
   "outputs": [
    {
     "data": {
      "text/html": [
       "<div>\n",
       "<style scoped>\n",
       "    .dataframe tbody tr th:only-of-type {\n",
       "        vertical-align: middle;\n",
       "    }\n",
       "\n",
       "    .dataframe tbody tr th {\n",
       "        vertical-align: top;\n",
       "    }\n",
       "\n",
       "    .dataframe thead th {\n",
       "        text-align: right;\n",
       "    }\n",
       "</style>\n",
       "<table border=\"1\" class=\"dataframe\">\n",
       "  <thead>\n",
       "    <tr style=\"text-align: right;\">\n",
       "      <th></th>\n",
       "      <th>year</th>\n",
       "      <th>na_sales</th>\n",
       "      <th>eu_sales</th>\n",
       "      <th>jp_sales</th>\n",
       "      <th>other_sales</th>\n",
       "      <th>critic_score</th>\n",
       "      <th>user_score</th>\n",
       "    </tr>\n",
       "  </thead>\n",
       "  <tbody>\n",
       "    <tr>\n",
       "      <th>count</th>\n",
       "      <td>8461.000000</td>\n",
       "      <td>8461.000000</td>\n",
       "      <td>8461.000000</td>\n",
       "      <td>8461.000000</td>\n",
       "      <td>8461.000000</td>\n",
       "      <td>0.0</td>\n",
       "      <td>569.000000</td>\n",
       "    </tr>\n",
       "    <tr>\n",
       "      <th>mean</th>\n",
       "      <td>2005.819643</td>\n",
       "      <td>0.178603</td>\n",
       "      <td>0.085671</td>\n",
       "      <td>0.099788</td>\n",
       "      <td>0.023684</td>\n",
       "      <td>NaN</td>\n",
       "      <td>6.423023</td>\n",
       "    </tr>\n",
       "    <tr>\n",
       "      <th>std</th>\n",
       "      <td>7.044294</td>\n",
       "      <td>0.719761</td>\n",
       "      <td>0.322860</td>\n",
       "      <td>0.345986</td>\n",
       "      <td>0.089195</td>\n",
       "      <td>NaN</td>\n",
       "      <td>1.960422</td>\n",
       "    </tr>\n",
       "    <tr>\n",
       "      <th>min</th>\n",
       "      <td>1980.000000</td>\n",
       "      <td>0.000000</td>\n",
       "      <td>0.000000</td>\n",
       "      <td>0.000000</td>\n",
       "      <td>0.000000</td>\n",
       "      <td>NaN</td>\n",
       "      <td>0.000000</td>\n",
       "    </tr>\n",
       "    <tr>\n",
       "      <th>25%</th>\n",
       "      <td>2001.000000</td>\n",
       "      <td>0.000000</td>\n",
       "      <td>0.000000</td>\n",
       "      <td>0.000000</td>\n",
       "      <td>0.000000</td>\n",
       "      <td>NaN</td>\n",
       "      <td>5.300000</td>\n",
       "    </tr>\n",
       "    <tr>\n",
       "      <th>50%</th>\n",
       "      <td>2008.000000</td>\n",
       "      <td>0.020000</td>\n",
       "      <td>0.000000</td>\n",
       "      <td>0.000000</td>\n",
       "      <td>0.000000</td>\n",
       "      <td>NaN</td>\n",
       "      <td>7.000000</td>\n",
       "    </tr>\n",
       "    <tr>\n",
       "      <th>75%</th>\n",
       "      <td>2011.000000</td>\n",
       "      <td>0.140000</td>\n",
       "      <td>0.050000</td>\n",
       "      <td>0.070000</td>\n",
       "      <td>0.020000</td>\n",
       "      <td>NaN</td>\n",
       "      <td>7.900000</td>\n",
       "    </tr>\n",
       "    <tr>\n",
       "      <th>max</th>\n",
       "      <td>2016.000000</td>\n",
       "      <td>29.080000</td>\n",
       "      <td>10.950000</td>\n",
       "      <td>10.220000</td>\n",
       "      <td>2.740000</td>\n",
       "      <td>NaN</td>\n",
       "      <td>9.700000</td>\n",
       "    </tr>\n",
       "  </tbody>\n",
       "</table>\n",
       "</div>"
      ],
      "text/plain": [
       "              year     na_sales     eu_sales     jp_sales  other_sales  \\\n",
       "count  8461.000000  8461.000000  8461.000000  8461.000000  8461.000000   \n",
       "mean   2005.819643     0.178603     0.085671     0.099788     0.023684   \n",
       "std       7.044294     0.719761     0.322860     0.345986     0.089195   \n",
       "min    1980.000000     0.000000     0.000000     0.000000     0.000000   \n",
       "25%    2001.000000     0.000000     0.000000     0.000000     0.000000   \n",
       "50%    2008.000000     0.020000     0.000000     0.000000     0.000000   \n",
       "75%    2011.000000     0.140000     0.050000     0.070000     0.020000   \n",
       "max    2016.000000    29.080000    10.950000    10.220000     2.740000   \n",
       "\n",
       "       critic_score  user_score  \n",
       "count           0.0  569.000000  \n",
       "mean            NaN    6.423023  \n",
       "std             NaN    1.960422  \n",
       "min             NaN    0.000000  \n",
       "25%             NaN    5.300000  \n",
       "50%             NaN    7.000000  \n",
       "75%             NaN    7.900000  \n",
       "max             NaN    9.700000  "
      ]
     },
     "execution_count": 225,
     "metadata": {},
     "output_type": "execute_result"
    }
   ],
   "source": [
    "data.loc[data['critic_score'].isna()].describe()"
   ]
  },
  {
   "cell_type": "code",
   "execution_count": 226,
   "metadata": {},
   "outputs": [
    {
     "data": {
      "text/plain": [
       "PS2     1275\n",
       "X360     894\n",
       "PS3      804\n",
       "DS       708\n",
       "XB       706\n",
       "PC       699\n",
       "Wii      568\n",
       "PSP      456\n",
       "GC       437\n",
       "GBA      430\n",
       "PS4      252\n",
       "PS       196\n",
       "XOne     169\n",
       "3DS      166\n",
       "PSV      119\n",
       "WiiU      90\n",
       "DC        14\n",
       "Name: platform, dtype: int64"
      ]
     },
     "execution_count": 226,
     "metadata": {},
     "output_type": "execute_result"
    }
   ],
   "source": [
    "data.loc[data['critic_score'].notna()]['platform'].value_counts()"
   ]
  },
  {
   "cell_type": "code",
   "execution_count": 227,
   "metadata": {},
   "outputs": [
    {
     "data": {
      "text/plain": [
       "DS      1413\n",
       "PS       994\n",
       "PS2      852\n",
       "PSP      737\n",
       "Wii      718\n",
       "PS3      502\n",
       "GBA      381\n",
       "3DS      346\n",
       "X360     338\n",
       "N64      316\n",
       "PSV      310\n",
       "PC       258\n",
       "SNES     239\n",
       "SAT      173\n",
       "PS4      140\n",
       "2600     116\n",
       "GC       105\n",
       "NES       98\n",
       "GB        97\n",
       "XB        97\n",
       "XOne      78\n",
       "WiiU      57\n",
       "DC        38\n",
       "GEN       27\n",
       "NG        12\n",
       "SCD        6\n",
       "WS         6\n",
       "3DO        3\n",
       "TG16       2\n",
       "GG         1\n",
       "PCFX       1\n",
       "Name: platform, dtype: int64"
      ]
     },
     "execution_count": 227,
     "metadata": {},
     "output_type": "execute_result"
    }
   ],
   "source": [
    "data[data['critic_score'].isna()]['platform'].value_counts()"
   ]
  },
  {
   "cell_type": "code",
   "execution_count": 228,
   "metadata": {},
   "outputs": [
    {
     "data": {
      "text/plain": [
       "Action          1851\n",
       "Sports          1165\n",
       "Shooter          923\n",
       "Role-Playing     731\n",
       "Racing           725\n",
       "Misc             509\n",
       "Platform         490\n",
       "Fighting         405\n",
       "Simulation       348\n",
       "Adventure        320\n",
       "Strategy         296\n",
       "Puzzle           220\n",
       "Name: genre, dtype: int64"
      ]
     },
     "execution_count": 228,
     "metadata": {},
     "output_type": "execute_result"
    }
   ],
   "source": [
    "data.loc[data['critic_score'].notna()]['genre'].value_counts()"
   ]
  },
  {
   "cell_type": "code",
   "execution_count": 229,
   "metadata": {},
   "outputs": [
    {
     "data": {
      "text/plain": [
       "Action          1456\n",
       "Misc            1212\n",
       "Sports          1141\n",
       "Adventure        973\n",
       "Role-Playing     750\n",
       "Simulation       509\n",
       "Racing           501\n",
       "Fighting         432\n",
       "Platform         388\n",
       "Strategy         377\n",
       "Shooter          373\n",
       "Puzzle           349\n",
       "Name: genre, dtype: int64"
      ]
     },
     "execution_count": 229,
     "metadata": {},
     "output_type": "execute_result"
    }
   ],
   "source": [
    "data[data['critic_score'].isna()]['genre'].value_counts()"
   ]
  },
  {
   "cell_type": "markdown",
   "metadata": {},
   "source": [
    "Данные с пропусками мало отличаются от данных без. Большинство из них присутствуют после 2010 года, продажи у игр с пропусками даже больше среднего в некоторых регионах, а жанры в большинстве совпадают. В данных с пропусками самой популярной платформой является DS, а без пропусков - PS2. Однако, остальные популярные платформы примерно одинаковые.\n",
    "\n",
    "При необходимости, можно было бы попробовать получить недостающие данные из других датасетов, которые есть в открытых источниках. Однако, в данных условиях это трудно реализуемо технически.\n",
    "\n",
    "Так же исследование больше сконцентрировано на аспекте продаж видеоигр, а не их хороших оценках. При этом данные о продажах у нас имеются без пропусков.\n",
    "\n",
    "В связи с этим, данные пропуски в столбцах `user_score, critic_score и rating` можно оставить. В будущем необходимо учесть, что при работе с этими столбцами, наблюдений будет примерно в половину меньше, чем в других случаях.\n",
    "\n",
    "Скорее всего, пропуски в данных появились во время формирования данных. Возможно, они были взяты из разных источников."
   ]
  },
  {
   "cell_type": "markdown",
   "metadata": {},
   "source": [
    "#### Подсчет общего числа продаж по всем регионам"
   ]
  },
  {
   "cell_type": "code",
   "execution_count": 230,
   "metadata": {},
   "outputs": [],
   "source": [
    "data['total_sales'] = data.loc[:, \"na_sales\":\"other_sales\"].sum(axis=1)"
   ]
  },
  {
   "cell_type": "markdown",
   "metadata": {},
   "source": [
    "#### Удаление выбросов (аномалий)"
   ]
  },
  {
   "cell_type": "code",
   "execution_count": 231,
   "metadata": {},
   "outputs": [
    {
     "data": {
      "text/html": [
       "<div>\n",
       "<style scoped>\n",
       "    .dataframe tbody tr th:only-of-type {\n",
       "        vertical-align: middle;\n",
       "    }\n",
       "\n",
       "    .dataframe tbody tr th {\n",
       "        vertical-align: top;\n",
       "    }\n",
       "\n",
       "    .dataframe thead th {\n",
       "        text-align: right;\n",
       "    }\n",
       "</style>\n",
       "<table border=\"1\" class=\"dataframe\">\n",
       "  <thead>\n",
       "    <tr style=\"text-align: right;\">\n",
       "      <th></th>\n",
       "      <th>na_sales</th>\n",
       "      <th>eu_sales</th>\n",
       "      <th>jp_sales</th>\n",
       "      <th>other_sales</th>\n",
       "    </tr>\n",
       "  </thead>\n",
       "  <tbody>\n",
       "    <tr>\n",
       "      <th>count</th>\n",
       "      <td>16444.000000</td>\n",
       "      <td>16444.000000</td>\n",
       "      <td>16444.000000</td>\n",
       "      <td>16444.000000</td>\n",
       "    </tr>\n",
       "    <tr>\n",
       "      <th>mean</th>\n",
       "      <td>0.264012</td>\n",
       "      <td>0.145930</td>\n",
       "      <td>0.078487</td>\n",
       "      <td>0.047594</td>\n",
       "    </tr>\n",
       "    <tr>\n",
       "      <th>std</th>\n",
       "      <td>0.818378</td>\n",
       "      <td>0.506716</td>\n",
       "      <td>0.311100</td>\n",
       "      <td>0.188005</td>\n",
       "    </tr>\n",
       "    <tr>\n",
       "      <th>min</th>\n",
       "      <td>0.000000</td>\n",
       "      <td>0.000000</td>\n",
       "      <td>0.000000</td>\n",
       "      <td>0.000000</td>\n",
       "    </tr>\n",
       "    <tr>\n",
       "      <th>25%</th>\n",
       "      <td>0.000000</td>\n",
       "      <td>0.000000</td>\n",
       "      <td>0.000000</td>\n",
       "      <td>0.000000</td>\n",
       "    </tr>\n",
       "    <tr>\n",
       "      <th>50%</th>\n",
       "      <td>0.080000</td>\n",
       "      <td>0.020000</td>\n",
       "      <td>0.000000</td>\n",
       "      <td>0.010000</td>\n",
       "    </tr>\n",
       "    <tr>\n",
       "      <th>75%</th>\n",
       "      <td>0.240000</td>\n",
       "      <td>0.110000</td>\n",
       "      <td>0.040000</td>\n",
       "      <td>0.030000</td>\n",
       "    </tr>\n",
       "    <tr>\n",
       "      <th>max</th>\n",
       "      <td>41.360000</td>\n",
       "      <td>28.960000</td>\n",
       "      <td>10.220000</td>\n",
       "      <td>10.570000</td>\n",
       "    </tr>\n",
       "  </tbody>\n",
       "</table>\n",
       "</div>"
      ],
      "text/plain": [
       "           na_sales      eu_sales      jp_sales   other_sales\n",
       "count  16444.000000  16444.000000  16444.000000  16444.000000\n",
       "mean       0.264012      0.145930      0.078487      0.047594\n",
       "std        0.818378      0.506716      0.311100      0.188005\n",
       "min        0.000000      0.000000      0.000000      0.000000\n",
       "25%        0.000000      0.000000      0.000000      0.000000\n",
       "50%        0.080000      0.020000      0.000000      0.010000\n",
       "75%        0.240000      0.110000      0.040000      0.030000\n",
       "max       41.360000     28.960000     10.220000     10.570000"
      ]
     },
     "execution_count": 231,
     "metadata": {},
     "output_type": "execute_result"
    }
   ],
   "source": [
    "data.loc[:, \"na_sales\":\"other_sales\"].describe()"
   ]
  },
  {
   "cell_type": "code",
   "execution_count": 232,
   "metadata": {},
   "outputs": [
    {
     "data": {
      "image/png": "[encoded data removed]",
      "text/plain": [
       "<Figure size 864x864 with 4 Axes>"
      ]
     },
     "metadata": {
      "needs_background": "light"
     },
     "output_type": "display_data"
    }
   ],
   "source": [
    "data.loc[:, \"na_sales\":\"other_sales\"].hist(bins=50, figsize=(12, 12));"
   ]
  },
  {
   "cell_type": "markdown",
   "metadata": {},
   "source": [
    "Для каждого признака количества продаж необходимо отсечь аномально высокие значения\n",
    "\n",
    "Для выбора верхней границы этих значений изучим их гистограммы распределений и посчитаем, сколько процентов выбросы составляют от всех данных."
   ]
  },
  {
   "cell_type": "code",
   "execution_count": 233,
   "metadata": {},
   "outputs": [
    {
     "data": {
      "image/png": "[encoded data removed]",
      "text/plain": [
       "<Figure size 432x288 with 1 Axes>"
      ]
     },
     "metadata": {
      "needs_background": "light"
     },
     "output_type": "display_data"
    }
   ],
   "source": [
    "data[data[\"na_sales\"] < 2][\"na_sales\"].hist();"
   ]
  },
  {
   "cell_type": "code",
   "execution_count": 234,
   "metadata": {},
   "outputs": [
    {
     "data": {
      "text/plain": [
       "1.933836049622963"
      ]
     },
     "execution_count": 234,
     "metadata": {},
     "output_type": "execute_result"
    }
   ],
   "source": [
    "data.query(\"na_sales > 2\")['na_sales'].count() / data.shape[0] * 100"
   ]
  },
  {
   "cell_type": "code",
   "execution_count": 235,
   "metadata": {},
   "outputs": [
    {
     "data": {
      "image/png": "[encoded data removed]",
      "text/plain": [
       "<Figure size 432x288 with 1 Axes>"
      ]
     },
     "metadata": {
      "needs_background": "light"
     },
     "output_type": "display_data"
    }
   ],
   "source": [
    "data[data[\"eu_sales\"] < 1][\"eu_sales\"].hist();"
   ]
  },
  {
   "cell_type": "code",
   "execution_count": 236,
   "metadata": {},
   "outputs": [
    {
     "data": {
      "text/plain": [
       "2.8460228654828508"
      ]
     },
     "execution_count": 236,
     "metadata": {},
     "output_type": "execute_result"
    }
   ],
   "source": [
    "data.query(\"eu_sales > 1\")['eu_sales'].count() / data.shape[0] * 100"
   ]
  },
  {
   "cell_type": "code",
   "execution_count": 237,
   "metadata": {},
   "outputs": [
    {
     "data": {
      "image/png": "[encoded data removed]",
      "text/plain": [
       "<Figure size 432x288 with 1 Axes>"
      ]
     },
     "metadata": {
      "needs_background": "light"
     },
     "output_type": "display_data"
    }
   ],
   "source": [
    "data[data[\"jp_sales\"] < 1][\"jp_sales\"].hist()\n",
    "None"
   ]
  },
  {
   "cell_type": "code",
   "execution_count": 238,
   "metadata": {},
   "outputs": [
    {
     "data": {
      "text/plain": [
       "1.453417659936755"
      ]
     },
     "execution_count": 238,
     "metadata": {},
     "output_type": "execute_result"
    }
   ],
   "source": [
    "data.query(\"jp_sales > 1\")['jp_sales'].count() / data.shape[0] * 100"
   ]
  },
  {
   "cell_type": "code",
   "execution_count": 239,
   "metadata": {},
   "outputs": [
    {
     "data": {
      "image/png": "[encoded data removed]",
      "text/plain": [
       "<Figure size 432x288 with 1 Axes>"
      ]
     },
     "metadata": {
      "needs_background": "light"
     },
     "output_type": "display_data"
    }
   ],
   "source": [
    "data[data[\"other_sales\"] < 0.5][\"other_sales\"].hist();"
   ]
  },
  {
   "cell_type": "code",
   "execution_count": 240,
   "metadata": {},
   "outputs": [
    {
     "data": {
      "text/plain": [
       "1.3865239601070298"
      ]
     },
     "execution_count": 240,
     "metadata": {},
     "output_type": "execute_result"
    }
   ],
   "source": [
    "data.query(\"other_sales > 0.5\")['other_sales'].count() / data.shape[0] * 100"
   ]
  },
  {
   "cell_type": "markdown",
   "metadata": {},
   "source": [
    "В сумме выбросы составляю 4.6% от общего объема данных и представляют игры с сильным коммерческим успехом. В связи с этим, их не стоит отбрасывать для сохранения реальной картины событий в продажах.\n"
   ]
  },
  {
   "cell_type": "markdown",
   "metadata": {},
   "source": [
    "Поиск явных дубликатов:"
   ]
  },
  {
   "cell_type": "code",
   "execution_count": 241,
   "metadata": {},
   "outputs": [
    {
     "data": {
      "text/html": [
       "<div>\n",
       "<style scoped>\n",
       "    .dataframe tbody tr th:only-of-type {\n",
       "        vertical-align: middle;\n",
       "    }\n",
       "\n",
       "    .dataframe tbody tr th {\n",
       "        vertical-align: top;\n",
       "    }\n",
       "\n",
       "    .dataframe thead th {\n",
       "        text-align: right;\n",
       "    }\n",
       "</style>\n",
       "<table border=\"1\" class=\"dataframe\">\n",
       "  <thead>\n",
       "    <tr style=\"text-align: right;\">\n",
       "      <th></th>\n",
       "      <th>name</th>\n",
       "      <th>platform</th>\n",
       "      <th>year</th>\n",
       "      <th>genre</th>\n",
       "      <th>na_sales</th>\n",
       "      <th>eu_sales</th>\n",
       "      <th>jp_sales</th>\n",
       "      <th>other_sales</th>\n",
       "      <th>critic_score</th>\n",
       "      <th>user_score</th>\n",
       "      <th>rating</th>\n",
       "      <th>total_sales</th>\n",
       "    </tr>\n",
       "  </thead>\n",
       "  <tbody>\n",
       "    <tr>\n",
       "      <th>604</th>\n",
       "      <td>Madden NFL 13</td>\n",
       "      <td>PS3</td>\n",
       "      <td>2012</td>\n",
       "      <td>Sports</td>\n",
       "      <td>2.11</td>\n",
       "      <td>0.22</td>\n",
       "      <td>0.00</td>\n",
       "      <td>0.23</td>\n",
       "      <td>83.0</td>\n",
       "      <td>5.5</td>\n",
       "      <td>E</td>\n",
       "      <td>2.56</td>\n",
       "    </tr>\n",
       "    <tr>\n",
       "      <th>1190</th>\n",
       "      <td>Need for Speed: Most Wanted</td>\n",
       "      <td>X360</td>\n",
       "      <td>2012</td>\n",
       "      <td>Racing</td>\n",
       "      <td>0.62</td>\n",
       "      <td>0.78</td>\n",
       "      <td>0.01</td>\n",
       "      <td>0.15</td>\n",
       "      <td>83.0</td>\n",
       "      <td>8.5</td>\n",
       "      <td>T</td>\n",
       "      <td>1.56</td>\n",
       "    </tr>\n",
       "    <tr>\n",
       "      <th>1591</th>\n",
       "      <td>Need for Speed: Most Wanted</td>\n",
       "      <td>X360</td>\n",
       "      <td>2005</td>\n",
       "      <td>Racing</td>\n",
       "      <td>1.00</td>\n",
       "      <td>0.13</td>\n",
       "      <td>0.02</td>\n",
       "      <td>0.10</td>\n",
       "      <td>83.0</td>\n",
       "      <td>8.5</td>\n",
       "      <td>T</td>\n",
       "      <td>1.25</td>\n",
       "    </tr>\n",
       "    <tr>\n",
       "      <th>5972</th>\n",
       "      <td>Need for Speed: Most Wanted</td>\n",
       "      <td>PC</td>\n",
       "      <td>2005</td>\n",
       "      <td>Racing</td>\n",
       "      <td>0.02</td>\n",
       "      <td>0.23</td>\n",
       "      <td>0.00</td>\n",
       "      <td>0.04</td>\n",
       "      <td>82.0</td>\n",
       "      <td>8.5</td>\n",
       "      <td>T</td>\n",
       "      <td>0.29</td>\n",
       "    </tr>\n",
       "    <tr>\n",
       "      <th>11715</th>\n",
       "      <td>Need for Speed: Most Wanted</td>\n",
       "      <td>PC</td>\n",
       "      <td>2012</td>\n",
       "      <td>Racing</td>\n",
       "      <td>0.00</td>\n",
       "      <td>0.06</td>\n",
       "      <td>0.00</td>\n",
       "      <td>0.02</td>\n",
       "      <td>82.0</td>\n",
       "      <td>8.5</td>\n",
       "      <td>T</td>\n",
       "      <td>0.08</td>\n",
       "    </tr>\n",
       "    <tr>\n",
       "      <th>16230</th>\n",
       "      <td>Madden NFL 13</td>\n",
       "      <td>PS3</td>\n",
       "      <td>2012</td>\n",
       "      <td>Sports</td>\n",
       "      <td>0.00</td>\n",
       "      <td>0.01</td>\n",
       "      <td>0.00</td>\n",
       "      <td>0.00</td>\n",
       "      <td>83.0</td>\n",
       "      <td>5.5</td>\n",
       "      <td>E</td>\n",
       "      <td>0.01</td>\n",
       "    </tr>\n",
       "  </tbody>\n",
       "</table>\n",
       "</div>"
      ],
      "text/plain": [
       "                              name platform  year   genre  na_sales  eu_sales  \\\n",
       "604                  Madden NFL 13      PS3  2012  Sports      2.11      0.22   \n",
       "1190   Need for Speed: Most Wanted     X360  2012  Racing      0.62      0.78   \n",
       "1591   Need for Speed: Most Wanted     X360  2005  Racing      1.00      0.13   \n",
       "5972   Need for Speed: Most Wanted       PC  2005  Racing      0.02      0.23   \n",
       "11715  Need for Speed: Most Wanted       PC  2012  Racing      0.00      0.06   \n",
       "16230                Madden NFL 13      PS3  2012  Sports      0.00      0.01   \n",
       "\n",
       "       jp_sales  other_sales  critic_score  user_score rating  total_sales  \n",
       "604        0.00         0.23          83.0         5.5      E         2.56  \n",
       "1190       0.01         0.15          83.0         8.5      T         1.56  \n",
       "1591       0.02         0.10          83.0         8.5      T         1.25  \n",
       "5972       0.00         0.04          82.0         8.5      T         0.29  \n",
       "11715      0.00         0.02          82.0         8.5      T         0.08  \n",
       "16230      0.00         0.00          83.0         5.5      E         0.01  "
      ]
     },
     "execution_count": 241,
     "metadata": {},
     "output_type": "execute_result"
    }
   ],
   "source": [
    "data[data.duplicated(subset=['name', 'platform'], keep=False)]"
   ]
  },
  {
   "cell_type": "markdown",
   "metadata": {},
   "source": [
    "Поиск неявных дубликатов в названиях платформ:"
   ]
  },
  {
   "cell_type": "code",
   "execution_count": 242,
   "metadata": {},
   "outputs": [
    {
     "data": {
      "text/plain": [
       "array(['Wii', 'NES', 'GB', 'DS', 'X360', 'PS3', 'PS2', 'SNES', 'GBA',\n",
       "       'PS4', '3DS', 'N64', 'PS', 'XB', 'PC', '2600', 'PSP', 'XOne',\n",
       "       'WiiU', 'GC', 'GEN', 'DC', 'PSV', 'SAT', 'SCD', 'WS', 'NG', 'TG16',\n",
       "       '3DO', 'GG', 'PCFX'], dtype=object)"
      ]
     },
     "execution_count": 242,
     "metadata": {},
     "output_type": "execute_result"
    }
   ],
   "source": [
    "data['platform'].unique()"
   ]
  },
  {
   "cell_type": "markdown",
   "metadata": {},
   "source": [
    "В результате поиска дубликатов, не было найдено неявных дубликатов среди платформ. Были найдены 3 игры, название и платформа которых встречались два раза. Однако, в случае Need for Speed: Most Wanted дубликаты валидны, т.к. описывают две разные игры - 2012 и 2005 года. Однако, для игры Madden NFL 13 запись все же повторяется. Из открытых источников есть данные, что за первую неделю своего выпуска данная игра продала 1.65 млн копий.(https://www.ign.com/articles/2012/09/06/madden-nfl-13-sales-pass-16-million) Поэтому, запись об игре в 604 строке можно оставить, а в 16230 - удалить"
   ]
  },
  {
   "cell_type": "code",
   "execution_count": 243,
   "metadata": {},
   "outputs": [],
   "source": [
    "data = data.drop(16230)"
   ]
  },
  {
   "cell_type": "code",
   "execution_count": 244,
   "metadata": {},
   "outputs": [
    {
     "data": {
      "text/html": [
       "<div>\n",
       "<style scoped>\n",
       "    .dataframe tbody tr th:only-of-type {\n",
       "        vertical-align: middle;\n",
       "    }\n",
       "\n",
       "    .dataframe tbody tr th {\n",
       "        vertical-align: top;\n",
       "    }\n",
       "\n",
       "    .dataframe thead th {\n",
       "        text-align: right;\n",
       "    }\n",
       "</style>\n",
       "<table border=\"1\" class=\"dataframe\">\n",
       "  <thead>\n",
       "    <tr style=\"text-align: right;\">\n",
       "      <th></th>\n",
       "      <th>name</th>\n",
       "      <th>platform</th>\n",
       "      <th>year</th>\n",
       "      <th>genre</th>\n",
       "      <th>na_sales</th>\n",
       "      <th>eu_sales</th>\n",
       "      <th>jp_sales</th>\n",
       "      <th>other_sales</th>\n",
       "      <th>critic_score</th>\n",
       "      <th>user_score</th>\n",
       "      <th>rating</th>\n",
       "      <th>total_sales</th>\n",
       "    </tr>\n",
       "  </thead>\n",
       "  <tbody>\n",
       "  </tbody>\n",
       "</table>\n",
       "</div>"
      ],
      "text/plain": [
       "Empty DataFrame\n",
       "Columns: [name, platform, year, genre, na_sales, eu_sales, jp_sales, other_sales, critic_score, user_score, rating, total_sales]\n",
       "Index: []"
      ]
     },
     "execution_count": 244,
     "metadata": {},
     "output_type": "execute_result"
    }
   ],
   "source": [
    "data[data.duplicated(subset=['name', 'platform', 'year'], keep=False)]"
   ]
  },
  {
   "cell_type": "markdown",
   "metadata": {},
   "source": [
    "Во время выполнения предобработки данных были удалены явные дубликаты, были изменены типы столбцов и их названия на более корректные.\n",
    "\n",
    "Так же для некоторых признаков были построены гистограммы распределений. Данные с экстремальными значениями было решено оставить для корректного дальнейшего исследования.\n",
    "\n",
    "Данные готовы к работе и можно приступить к исследовательскому анализу данных"
   ]
  },
  {
   "cell_type": "markdown",
   "metadata": {},
   "source": [
    "### Исследовательский анализ данных"
   ]
  },
  {
   "cell_type": "markdown",
   "metadata": {},
   "source": [
    "Рассмотрим, сколько игр выпускалось в разные годы"
   ]
  },
  {
   "cell_type": "code",
   "execution_count": 245,
   "metadata": {},
   "outputs": [
    {
     "data": {
      "image/png": "[encoded data removed]",
      "text/plain": [
       "<Figure size 864x576 with 1 Axes>"
      ]
     },
     "metadata": {
      "needs_background": "light"
     },
     "output_type": "display_data"
    }
   ],
   "source": [
    "data.groupby('year')['name'].count().plot(kind=\"bar\", figsize=(12, 8));"
   ]
  },
  {
   "cell_type": "code",
   "execution_count": 246,
   "metadata": {},
   "outputs": [
    {
     "data": {
      "image/png": "[encoded data removed]",
      "text/plain": [
       "<Figure size 864x576 with 1 Axes>"
      ]
     },
     "metadata": {
      "needs_background": "light"
     },
     "output_type": "display_data"
    }
   ],
   "source": [
    "data.groupby('year')['name'].nunique().plot(kind=\"bar\", figsize=(12, 8));"
   ]
  },
  {
   "cell_type": "markdown",
   "metadata": {},
   "source": [
    "По графику видно, что больше всего игр в данные появились с 2002 по 2012 год. Пик выпуска игр в 2008 году скорее всего связан с повышением доступности персонального компьютера, появлением новых игровых платформ и хороших продаж в предыдущих годах, что повлияло на потенциальную заинтересованность инвесторов в сфере разработки игр. До 2000 годов продажа игр была меньше всего.\n",
    "\n",
    "В целом, можно сказать, что данные об играх, выпущенных раньше 2000 года можно отбросить из-за их относительно малого количества и релевантности.\n",
    "\n",
    "Но перед этим так же стоит посмотреть, как менялись продажи по самым популярным платформам, для которых выпускались игры:"
   ]
  },
  {
   "cell_type": "code",
   "execution_count": 247,
   "metadata": {},
   "outputs": [],
   "source": [
    "top_10_platforms = data['platform'].value_counts().index[:10]"
   ]
  },
  {
   "cell_type": "code",
   "execution_count": 248,
   "metadata": {},
   "outputs": [
    {
     "data": {
      "image/png": "[encoded data removed]",
      "text/plain": [
       "<Figure size 864x576 with 1 Axes>"
      ]
     },
     "metadata": {
      "needs_background": "light"
     },
     "output_type": "display_data"
    }
   ],
   "source": [
    "(\n",
    "data\n",
    "    .query(\"platform in @top_10_platforms\")\n",
    "    .pivot_table(index=\"year\", columns=\"platform\", values=\"total_sales\", aggfunc=\"count\")\n",
    "    .plot(kind=\"bar\",stacked=True, figsize=(12, 8))\n",
    ");"
   ]
  },
  {
   "cell_type": "markdown",
   "metadata": {},
   "source": [
    "По полученному графику можно сделать следующие выводы:\n",
    "1. Есть некая закономерность в разных версиях одной платформы. Хорошим примером являются PS, PS2 и PS3. Так, при появлении PS2 популярность PS1 каждый год падает почти на столько же, на сколько она растет у PS2.\n",
    "2. Платформа персонального компьютера (PC) показывает относительно малые значения, но существует дольше всех остальных платформ. Скорее всего, так и останется в будущем, что связано с самим устройством данной платформы.\n",
    "3. В среднем одна платформа релевантна на рынке в течении 8 - 10 лет.\n",
    "4. Максимум игр для конкретной платформы выпускается примерно через 3 года после ее появления.\n",
    "5. Есть популярные семейства консолей, которые существуют долгое время (Xbox, PS)."
   ]
  },
  {
   "cell_type": "markdown",
   "metadata": {},
   "source": [
    "Исследовав предыдущие графики, можно определить соответствующий **актуальный период**.\n",
    "\n",
    "Для того чтобы лучше отразить текущее состояние сферы, за этот период можно взять данные с 2014 года как самый релевантный текущей ситуации на рынке.\n",
    "\n",
    "Формирование актуального периода:"
   ]
  },
  {
   "cell_type": "code",
   "execution_count": 249,
   "metadata": {},
   "outputs": [],
   "source": [
    "data = data.query(\"year > 2013\")"
   ]
  },
  {
   "cell_type": "markdown",
   "metadata": {},
   "source": [
    "Также проанализируем платформы для актуального периода:"
   ]
  },
  {
   "cell_type": "code",
   "execution_count": 250,
   "metadata": {
    "scrolled": false
   },
   "outputs": [
    {
     "data": {
      "image/png": "[encoded data removed]",
      "text/plain": [
       "<Figure size 864x576 with 1 Axes>"
      ]
     },
     "metadata": {
      "needs_background": "light"
     },
     "output_type": "display_data"
    }
   ],
   "source": [
    "(\n",
    "    data\n",
    "    .pivot_table(index=\"year\", columns=\"platform\", values=\"total_sales\", aggfunc=\"count\")\n",
    "    .plot(kind=\"bar\",stacked=True, figsize=(12, 8))\n",
    ")\n",
    "\n",
    "plt.legend(loc='upper right');"
   ]
  },
  {
   "cell_type": "markdown",
   "metadata": {},
   "source": [
    "По графику заметно следующее:\n",
    "\n",
    "1. Платформы, набирающие популярность:\n",
    "* PS4\n",
    "* XOne\n",
    "* PC\n",
    "\n",
    "2. Платформы, теряющие популярность:\n",
    "* 3DS\n",
    "* PS3\n",
    "* PSP\n",
    "* PSV\n",
    "* Wii\n",
    "* WiiU\n",
    "* X360\n",
    "\n",
    "3. Потенциально прибыльные платформы:\n",
    "* XOne\n",
    "* PS4\n",
    "* PC"
   ]
  },
  {
   "cell_type": "markdown",
   "metadata": {},
   "source": [
    "Рассмотрим глобальные продажи по платформам:"
   ]
  },
  {
   "cell_type": "code",
   "execution_count": 251,
   "metadata": {},
   "outputs": [
    {
     "data": {
      "image/png": "[encoded data removed]",
      "text/plain": [
       "<Figure size 1440x720 with 1 Axes>"
      ]
     },
     "metadata": {
      "needs_background": "light"
     },
     "output_type": "display_data"
    }
   ],
   "source": [
    "#группировка данных по платформе и создание датасета с их общим числом продаж\n",
    "grouped = data.groupby(\"platform\")\n",
    "data2 = pd.DataFrame({col:vals['total_sales'] for col,vals in grouped})\n",
    "\n",
    "#вычисление медиан для последующей сортировки\n",
    "medians = data2.median()\n",
    "medians.sort_values(ascending=False, inplace=True)\n",
    "\n",
    "#перестановка столбцов\n",
    "data2 = data2[medians.index]\n",
    "\n",
    "#построение графиков\n",
    "ax = data2.boxplot(figsize=(20, 10))\n",
    "ax.set_ylim(0, 1.6)\n",
    "None"
   ]
  },
  {
   "cell_type": "markdown",
   "metadata": {},
   "source": [
    "Как можно заметить, у платформ, которые вышли недавно(XOne, PS4) гораздо больше продаж, чем у их предшественников (X360 и PS3). Это еще раз подтверждает актуальность этих двух платформ в текущее время, а под платформы XOne и PS4 можно надежно закупать игры.\n",
    "\n",
    "Платформы 3DS, PSV и PSP имеют крайне мало продаж и теряют свою популярность, поэтому игры для них закупать не стоит.\n",
    "\n",
    "Платформа PC имеет малое среднее число продаж, но достаточно большой размах аномальных значений. Учитывая, что эта платформа существует дольше всех, скорее всего, есть смысл вкладывать в нее средства.\n",
    "\n",
    "Возьмем PS3 как самую популярную платформу и посмотрим, как отзывы влияют на её продажи игр:"
   ]
  },
  {
   "cell_type": "code",
   "execution_count": 252,
   "metadata": {},
   "outputs": [
    {
     "data": {
      "image/png": "[encoded data removed]",
      "text/plain": [
       "<Figure size 720x576 with 1 Axes>"
      ]
     },
     "metadata": {
      "needs_background": "light"
     },
     "output_type": "display_data"
    }
   ],
   "source": [
    "data[data['platform'] == \"PS3\"].plot(kind=\"scatter\", x=\"critic_score\", y=\"total_sales\", alpha=0.6, figsize=(10, 8))\n",
    "None"
   ]
  },
  {
   "cell_type": "code",
   "execution_count": 253,
   "metadata": {},
   "outputs": [
    {
     "data": {
      "image/png": "[encoded data removed]",
      "text/plain": [
       "<Figure size 720x576 with 1 Axes>"
      ]
     },
     "metadata": {
      "needs_background": "light"
     },
     "output_type": "display_data"
    }
   ],
   "source": [
    "data[data['platform'] == \"PS3\"].plot(kind=\"scatter\", x=\"user_score\", y=\"total_sales\", alpha=0.6, figsize=(10, 8))\n",
    "None"
   ]
  },
  {
   "cell_type": "code",
   "execution_count": 254,
   "metadata": {},
   "outputs": [
    {
     "data": {
      "text/plain": [
       "<AxesSubplot:>"
      ]
     },
     "execution_count": 254,
     "metadata": {},
     "output_type": "execute_result"
    },
    {
     "data": {
      "image/png": "[encoded data removed]",
      "text/plain": [
       "<Figure size 432x288 with 2 Axes>"
      ]
     },
     "metadata": {
      "needs_background": "light"
     },
     "output_type": "display_data"
    }
   ],
   "source": [
    "import seaborn as sns\n",
    "sns.heatmap(data.corr().loc[\"na_sales\":, [\"critic_score\", \"user_score\"]], annot=True)"
   ]
  },
  {
   "cell_type": "markdown",
   "metadata": {},
   "source": [
    "Как можно заметить, есть некая связь между высокой оценкой и большим количеством продаж. При этом для оценок критиков, она присутствует более явно, чем для оценок пользователей.\n",
    "\n",
    "В результате исследования взаимосвязи отзывов и продаж игры было установлено, что между количеством продаж игры и её оценками критиками существует средне-слабая корреляция. При этом оценки пользователей корреляцию с продажами не демонстрируют.\n",
    "\n",
    "Далее, взглянем на популярность конкретных жанров.\n",
    "\n",
    "Процент конкретного жанра от всех игр:"
   ]
  },
  {
   "cell_type": "code",
   "execution_count": 255,
   "metadata": {},
   "outputs": [
    {
     "data": {
      "image/png": "[encoded data removed]",
      "text/plain": [
       "<Figure size 504x504 with 1 Axes>"
      ]
     },
     "metadata": {},
     "output_type": "display_data"
    }
   ],
   "source": [
    "data['genre'].value_counts().plot(kind=\"pie\", autopct='%1.2f%%', figsize=(7, 7))\n",
    "None"
   ]
  },
  {
   "cell_type": "markdown",
   "metadata": {},
   "source": [
    "Суммарные продажи конкретного жанра за актуальный период:"
   ]
  },
  {
   "cell_type": "code",
   "execution_count": 256,
   "metadata": {},
   "outputs": [
    {
     "data": {
      "image/png": "[encoded data removed]",
      "text/plain": [
       "<Figure size 864x576 with 1 Axes>"
      ]
     },
     "metadata": {
      "needs_background": "light"
     },
     "output_type": "display_data"
    }
   ],
   "source": [
    "data.groupby(\"genre\")[\"total_sales\"].agg(\"median\")\\\n",
    "    .sort_values(ascending=False).plot(kind=\"bar\", width=0.9, figsize=(12, 8));"
   ]
  },
  {
   "cell_type": "markdown",
   "metadata": {},
   "source": [
    "Самым прибыльным жанром оказался Shooter. Среднее количество продаж данного жанра более чем в два раза больше, чем у остальных. Он так же занимает примерно 6.77% от всех игр. В среднем, игра такого жанра продает 500 тысяч копий.\n",
    "\n",
    "Далее следуют жанр Sports, который тоже выделяется от остальных повышенной прибыльностью. К тому же, его доля на рынке больше Shooter и составляет 12%.\n",
    "\n",
    "Меньше всего продаж набирают жанры Strategy, Puzzle и Adventure. В среднем, игра такого жанра продает менее 70 тысяч копий.\n",
    "\n",
    "В связи с этим, жанры Shooter и Sports являются рекомендованными для закупок в следующей кампании.\n",
    "\n",
    "Популярные жанры могут отличаться внутри разных частей мира, что будет проверено на следующем этапе."
   ]
  },
  {
   "cell_type": "markdown",
   "metadata": {},
   "source": [
    "### Составление портрета пользователя каждого региона"
   ]
  },
  {
   "cell_type": "markdown",
   "metadata": {},
   "source": [
    "Для каждого региона определим, какие жанры и платформы являются самыми популярными и как сильно на продажи влияет рейтинг ESRB"
   ]
  },
  {
   "cell_type": "markdown",
   "metadata": {},
   "source": [
    "Топ 5 популярных платформ каждого региона:"
   ]
  },
  {
   "cell_type": "code",
   "execution_count": 257,
   "metadata": {},
   "outputs": [
    {
     "name": "stdout",
     "output_type": "stream",
     "text": [
      "na : PS4 XOne X360 3DS PS3\n",
      "eu : PS4 XOne PS3 PC 3DS\n",
      "jp : 3DS PS4 PSV PS3 WiiU\n",
      "other : PS4 XOne PS3 X360 3DS\n"
     ]
    }
   ],
   "source": [
    "region_columns = [\"na_sales\", \"eu_sales\", \"jp_sales\", \"other_sales\"]\n",
    "\n",
    "for country in region_columns:\n",
    "    print(country.split('_')[0], ':',\n",
    "          ' '.join(data.groupby(\"platform\")[country].agg(\"sum\").sort_values(ascending=False).head(5).index))"
   ]
  },
  {
   "cell_type": "code",
   "execution_count": 258,
   "metadata": {},
   "outputs": [
    {
     "data": {
      "image/png": "[encoded data removed]",
      "text/plain": [
       "<Figure size 864x576 with 1 Axes>"
      ]
     },
     "metadata": {
      "needs_background": "light"
     },
     "output_type": "display_data"
    }
   ],
   "source": [
    "(\n",
    "    data\n",
    "        .pivot_table(index=\"platform\", values=[\"na_sales\", \"eu_sales\", \"jp_sales\", \"other_sales\"], aggfunc=\"sum\").sort_values(by=\"na_sales\", ascending=False)\n",
    "        .plot(kind=\"bar\", width=0.8, figsize=(12, 8))\n",
    "        .legend([\"Europe\", \"Japan\", \"North America\", \"Other\"])\n",
    ")\n",
    "None"
   ]
  },
  {
   "cell_type": "markdown",
   "metadata": {},
   "source": [
    "По полученным данным можно сделать следующие выводы:\n",
    "\n",
    "* В Японии не используется XOne, но используется PS4. Возможно, туда пока нет поставок или данные о таких продажах отсутствуют. Также в Японии PS3 более популярна, чем X360. Скорее всего, это связано с тем, что компания Sony, создавшая PS, базируется в Японии, поэтому эти платформы там будут более популярны.\n",
    "* 3DS и DS имеет максимальную популярность в Японии. Это платформы фирмы Nintendo, которая так же является Японской фирмой. По продажам игр на персональный компьютер данные в этой стране отсутствуют.\n",
    "* Персональный компьютер больше всего популярен в Европе\n",
    "* PS3 входит в топ-5 всех регионов\n",
    "* В остальных регионах 5 самых популярных платформ совпадают с популярными платформами Северной Америки\n",
    "* В Европе используют почти те же платформы, что и в Америке."
   ]
  },
  {
   "cell_type": "code",
   "execution_count": 259,
   "metadata": {},
   "outputs": [
    {
     "name": "stdout",
     "output_type": "stream",
     "text": [
      "na : Shooter Action Sports Role-Playing Misc\n",
      "eu : Action Shooter Sports Role-Playing Racing\n",
      "jp : Role-Playing Action Fighting Misc Shooter\n",
      "other : Action Shooter Sports Role-Playing Misc\n"
     ]
    }
   ],
   "source": [
    "for country in region_columns:\n",
    "    print(country.split('_')[0], ':',\n",
    "          ' '.join(data.groupby(\"genre\")[country].agg(\"sum\").sort_values(ascending=False).head(5).index))"
   ]
  },
  {
   "cell_type": "markdown",
   "metadata": {},
   "source": [
    "Распределение популярных жанров в чем то схоже с популярными платформами.\n",
    "\n",
    "Так, у Северной Америки и остальных регионов набор одинаков, и с набором Европы он отличается лишь в одном месте - в европе более популярны гонки. Япония сильно отличается от остальных регионов. Там лидируют ролевые игры и популярны жанры приключений.\n",
    "\n",
    "Однако, во всех странах в топ 5 жанров входят Action, Sports и Misc. При этом жанр Action почти всегда на первом-втором месте.\n",
    "\n",
    "Проверим влияние ESRB в различных регионах:"
   ]
  },
  {
   "cell_type": "code",
   "execution_count": 260,
   "metadata": {},
   "outputs": [
    {
     "data": {
      "image/png": "[encoded data removed]",
      "text/plain": [
       "<Figure size 864x576 with 1 Axes>"
      ]
     },
     "metadata": {
      "needs_background": "light"
     },
     "output_type": "display_data"
    }
   ],
   "source": [
    "(\n",
    "    data\n",
    "    .pivot_table(index=\"rating\", values=[\"na_sales\", \"eu_sales\", \"jp_sales\", \"other_sales\"], aggfunc=\"sum\").sort_values(by=\"na_sales\", ascending=False)\n",
    "    .plot(kind=\"bar\", width=0.8, figsize=(12, 8))\n",
    "    .legend([\"Europe\", \"Japan\", \"North America\", \"Other\"])\n",
    ");"
   ]
  },
  {
   "cell_type": "markdown",
   "metadata": {},
   "source": [
    "Из графика видно, в Японии больше всего продаж приходятся на рейтинг T. После него идут рейтинги E, M, E10+.\n",
    "\n",
    "В Северной Америке и остальных регионах игры тем популярнее, чем ниже возраст целевой аудитории. Так, у E гораздо больше продаж, чем у M.\n",
    "\n",
    "Однако, рейтинг E10+ не попадает под эту закономерность и показывает наименьшие продажи во всех регионах. Возможно, это связано с тем, что E10+ - промежуточный вариант между E и T, что сильно сужает целевую аудиторию.\n",
    "\n",
    "Европа в целом похожа на Северную Америку и остальные регионы. Однако, здесь рейтинг M немного популярнее рейтинга T.\n",
    "\n",
    "Можно сделать вывод, что для продажи в Японии лучше всего подойдут игры с рейтингом T и E, а для продажи в остальных странах - E и M.\n",
    "\n",
    "Игры с рейтингом E10+ показывают наименьшую популярность, их стоит закупать лишь при сильной популярности."
   ]
  },
  {
   "cell_type": "code",
   "execution_count": 261,
   "metadata": {
    "scrolled": false
   },
   "outputs": [
    {
     "data": {
      "image/png": "[encoded data removed]",
      "text/plain": [
       "<Figure size 504x504 with 1 Axes>"
      ]
     },
     "metadata": {},
     "output_type": "display_data"
    },
    {
     "data": {
      "image/png": "[encoded data removed]",
      "text/plain": [
       "<Figure size 504x504 with 1 Axes>"
      ]
     },
     "metadata": {},
     "output_type": "display_data"
    },
    {
     "data": {
      "image/png": "[encoded data removed]",
      "text/plain": [
       "<Figure size 504x504 with 1 Axes>"
      ]
     },
     "metadata": {},
     "output_type": "display_data"
    },
    {
     "data": {
      "image/png": "[encoded data removed]",
      "text/plain": [
       "<Figure size 504x504 with 1 Axes>"
      ]
     },
     "metadata": {},
     "output_type": "display_data"
    }
   ],
   "source": [
    "region_names = [\"Европе\", \"Северной Америке\", \"Японии\", \"остальных регионах\"]\n",
    "\n",
    "for i in range(len(region_columns)):\n",
    "    ax = (\n",
    "            data[data[region_columns[i]] > 0]['rating'].value_counts(dropna=False)\n",
    "                .plot(kind=\"pie\", autopct='%1.2f%%', figsize=(7, 7))\n",
    "         )\n",
    "    ax.set_title(f\"Процент игр для категорий рейтинга ESRB в {region_names[i]}\")\n",
    "    ax.set_ylabel(\"\")\n",
    "    plt.show()\n",
    "None"
   ]
  },
  {
   "cell_type": "markdown",
   "metadata": {},
   "source": [
    "Из графиков видно, в Японии более 60 % игр не имеют рейтинга ESRB. Это означает, что для данной страны будет некорректно анализировать то, игры с каким рейтингом ESRB подойдут в ней для продажи лучше всего. \n",
    "\n",
    "В остальных регионах процент игр без рейтинга не превышает 25%, что позволяет сделать некоторые выводы о продажах игр с определенным рейтингом.\n",
    "\n",
    "В Северной Америке и остальных регионах игры с рейтингами M и E показывают самые хорошие уровни продаж. При этом рейтинг M значительно привосходит Е по продажам. Это может быть частично связано с тем, что за этими рейтингами стоят две наиболее широкие аудитории. \n",
    "\n",
    "Рейтинг E10+ показывает наименьшие продажи во всех регионах. Возможно, это связано с тем, что E10+ - промежуточный вариант между E и T, что сильно сужает целевую аудиторию.\n",
    "\n",
    "В итоге, для продаж в этих странах хорошо подойдут игры с рейтингами M и E.\n",
    "\n",
    "Игры с рейтингом E10+ показывают наименьшую популярность, их стоит закупать лишь при сильной популярности.\n"
   ]
  },
  {
   "cell_type": "markdown",
   "metadata": {},
   "source": [
    "### Проверка гипотез, связанных со средними пользовательскими рейтингами"
   ]
  },
  {
   "cell_type": "markdown",
   "metadata": {},
   "source": [
    "Проверим две гипотезы о рейтингах игр\n",
    "\n",
    "Обе гипотезы сводятся к тому, что нам нужно сравнить средние двух генеральных совокупностей между собой по взятым из них выборкам. Так же эти две генеральные совокупности независимы относительно друг друга. Поэтому, будем использовать метод `scipy.stats.ttest_ind`, а уровень значимости возьмем равным 0.01.\n",
    "\n",
    "При этом у двух выборок скорее всего отличается размер и дисперсия, поэтому параметр `equal_var` поставим `False`"
   ]
  },
  {
   "cell_type": "markdown",
   "metadata": {},
   "source": [
    "Гипотеза 1: Средние пользовательские рейтинги платформ Xbox One и PC одинаковые;\n",
    "\n",
    "```\n",
    "H_0: Пользовательские рейтинги (user_score) для платформ Xbox One = Пользовательские рейтинги (user_score) для платформ PC`\n",
    "H_1: Пользовательские рейтинги (user_score) для платформ Xbox One ≠ Пользовательские рейтинги (user_score) для платформ PC`\n",
    "```\n"
   ]
  },
  {
   "cell_type": "code",
   "execution_count": 262,
   "metadata": {},
   "outputs": [
    {
     "name": "stdout",
     "output_type": "stream",
     "text": [
      "P-значение равно 0.11601\n",
      "Не получилось отвергнуть нулевую гипотезу\n"
     ]
    }
   ],
   "source": [
    "xbox = data[data['platform'] == 'XOne']['user_score'].dropna()\n",
    "pc = data[data['platform'] == 'PC']['user_score'].dropna()\n",
    "alpha = 0.01\n",
    "\n",
    "_, pvalue = st.ttest_ind(xbox, pc, equal_var=False)\n",
    "\n",
    "print(f'P-значение равно {pvalue:.5f}')\n",
    "\n",
    "if pvalue < alpha:\n",
    "    print(\"Нулевую гипотезу стоит отвергнуть\")\n",
    "else:\n",
    "    print(\"Не получилось отвергнуть нулевую гипотезу\")\n"
   ]
  },
  {
   "cell_type": "markdown",
   "metadata": {},
   "source": [
    "Таким образом, нельзя утверждать, что средние пользовательские рейтинги платформ Xbox One и PC значимо различаются.\n"
   ]
  },
  {
   "cell_type": "markdown",
   "metadata": {},
   "source": [
    "Гипотеза 2: Средние пользовательские рейтинги жанров Action и Sports разные;\n",
    "\n",
    "\n",
    "```\n",
    "H_0: Пользовательские рейтинги (user_score) жанров Action = Пользовательские рейтинги (user_score) жанров Sports`\n",
    "H_1: Пользовательские рейтинги (user_score) жанров Action ≠ Пользовательские рейтинги (user_score) жанров Sports`\n",
    "```\n",
    "\n"
   ]
  },
  {
   "cell_type": "code",
   "execution_count": 263,
   "metadata": {},
   "outputs": [
    {
     "name": "stdout",
     "output_type": "stream",
     "text": [
      "P-значение равно 0.00000000000001182555\n",
      "Нулевую гипотезу стоит отвергнуть\n"
     ]
    }
   ],
   "source": [
    "action = data[data['genre'] == 'Action']['user_score'].dropna()\n",
    "sports = data[data['genre'] == 'Sports']['user_score'].dropna()\n",
    "alpha = 0.01\n",
    "\n",
    "_, pvalue = st.ttest_ind(action, sports, equal_var=False)\n",
    "\n",
    "print(f'P-значение равно {pvalue:.20f}')\n",
    "\n",
    "if pvalue < alpha:\n",
    "    print(\"Нулевую гипотезу стоит отвергнуть\")\n",
    "else:\n",
    "    print(\"Не получилось отвергнуть нулевую гипотезу\")"
   ]
  },
  {
   "cell_type": "markdown",
   "metadata": {},
   "source": [
    "В данном случае уровень значимости значительно меньше. Поэтому нельзя утверждать, что средние пользовательские рейтинги жанров Action и Sports совпадают. Что еще раз подтверждает, что различные жанры воспринимаются пользователями по-разному и некоторые могут представлять больший интерес чем другие.\n",
    "\n",
    "То есть мы отвергаем нулевую гипотезу, но исследовательская гипотеза принимается."
   ]
  },
  {
   "cell_type": "markdown",
   "metadata": {},
   "source": [
    "### Общий вывод\n",
    "\n",
    "В ходе работы был исследован набор данных, описывающий отзывы и продажи различных видеоигр.\n",
    "\n",
    "Был проведен исследовательский анализ данных, во время которого были найдены полезные для планирования следующей кампании закономерности. Были определены потенциально прибыльные платформы: XOne, PS4 и PC. Также было определено, что все эти платформы на протяжении долго времени являются лидерами рынка и занимают надежные позиции. Следующие платформы на данные момент теряют релевантность: 3DS, PS3, PSP, PSV, Wii, WiiU, X360. Так же для каждой платформы были проанализированы глобальные продажи и продажи по регионам. Новая версия Xbox (XOne) показывает самые высокие продажи, а конкурирующая ей платформа PS4 так же держится в топ 3. Было установлено, что между количеством продаж игры и её оценками критиками существует средне-слабая корреляция. Самым прибыльным жанром на актуальный период является Shooter, его продажи значительно превосходят остальные. Следующий по продажам, но менее распространенный жанр - Sports. Так же были составлены портреты игроков в различных регионах. И было установлено, что лучшие рейтинги игр для продаж в Европе и Северной Америке - \"M\" и \"E\".\n",
    "\n",
    "Так же с помощью t-критерия Стьюдента были проверены две гипотезы. В результате нельзя утверждать, что средние пользовательские рейтинги платформ Xbox One и PC значимо различаются, а средние пользовательские рейтинги жанров Action и Sports совпадают."
   ]
  }
 ],
 "metadata": {
  "ExecuteTimeLog": [
   {
    "duration": 853,
    "start_time": "2022-09-15T17:04:55.673Z"
   },
   {
    "duration": 94,
    "start_time": "2022-09-15T17:04:56.528Z"
   },
   {
    "duration": 19,
    "start_time": "2022-09-15T17:04:56.623Z"
   },
   {
    "duration": 12,
    "start_time": "2022-09-15T17:04:56.644Z"
   },
   {
    "duration": 24,
    "start_time": "2022-09-15T17:04:56.657Z"
   },
   {
    "duration": 1356,
    "start_time": "2022-09-15T17:04:56.682Z"
   },
   {
    "duration": 4,
    "start_time": "2022-09-15T17:04:58.040Z"
   },
   {
    "duration": 7,
    "start_time": "2022-09-15T17:04:58.045Z"
   },
   {
    "duration": 5,
    "start_time": "2022-09-15T17:04:58.053Z"
   },
   {
    "duration": 9,
    "start_time": "2022-09-15T17:04:58.061Z"
   },
   {
    "duration": 12,
    "start_time": "2022-09-15T17:04:58.071Z"
   },
   {
    "duration": 8,
    "start_time": "2022-09-15T17:04:58.109Z"
   },
   {
    "duration": 10,
    "start_time": "2022-09-15T17:04:58.119Z"
   },
   {
    "duration": 8,
    "start_time": "2022-09-15T17:04:58.130Z"
   },
   {
    "duration": 178,
    "start_time": "2022-09-15T17:04:58.139Z"
   },
   {
    "duration": 30,
    "start_time": "2022-09-15T17:04:58.319Z"
   },
   {
    "duration": 28,
    "start_time": "2022-09-15T17:04:58.351Z"
   },
   {
    "duration": 28,
    "start_time": "2022-09-15T17:04:58.381Z"
   },
   {
    "duration": 7,
    "start_time": "2022-09-15T17:04:58.411Z"
   },
   {
    "duration": 14,
    "start_time": "2022-09-15T17:04:58.419Z"
   },
   {
    "duration": 17,
    "start_time": "2022-09-15T17:04:58.434Z"
   },
   {
    "duration": 16,
    "start_time": "2022-09-15T17:04:58.452Z"
   },
   {
    "duration": 31,
    "start_time": "2022-09-15T17:04:58.470Z"
   },
   {
    "duration": 357,
    "start_time": "2022-09-15T17:04:58.502Z"
   },
   {
    "duration": 131,
    "start_time": "2022-09-15T17:04:58.860Z"
   },
   {
    "duration": 8,
    "start_time": "2022-09-15T17:04:58.992Z"
   },
   {
    "duration": 128,
    "start_time": "2022-09-15T17:04:59.009Z"
   },
   {
    "duration": 7,
    "start_time": "2022-09-15T17:04:59.140Z"
   },
   {
    "duration": 135,
    "start_time": "2022-09-15T17:04:59.148Z"
   },
   {
    "duration": 6,
    "start_time": "2022-09-15T17:04:59.285Z"
   },
   {
    "duration": 126,
    "start_time": "2022-09-15T17:04:59.293Z"
   },
   {
    "duration": 7,
    "start_time": "2022-09-15T17:04:59.420Z"
   },
   {
    "duration": 8,
    "start_time": "2022-09-15T17:04:59.428Z"
   },
   {
    "duration": 274,
    "start_time": "2022-09-15T17:04:59.437Z"
   },
   {
    "duration": 4,
    "start_time": "2022-09-15T17:04:59.713Z"
   },
   {
    "duration": 665,
    "start_time": "2022-09-15T17:04:59.719Z"
   },
   {
    "duration": 6,
    "start_time": "2022-09-15T17:05:00.385Z"
   },
   {
    "duration": 491,
    "start_time": "2022-09-15T17:05:00.392Z"
   },
   {
    "duration": 343,
    "start_time": "2022-09-15T17:05:00.884Z"
   },
   {
    "duration": 144,
    "start_time": "2022-09-15T17:05:01.229Z"
   },
   {
    "duration": 143,
    "start_time": "2022-09-15T17:05:01.374Z"
   },
   {
    "duration": 148,
    "start_time": "2022-09-15T17:05:01.519Z"
   },
   {
    "duration": 141,
    "start_time": "2022-09-15T17:05:01.669Z"
   },
   {
    "duration": 157,
    "start_time": "2022-09-15T17:05:01.812Z"
   },
   {
    "duration": 272,
    "start_time": "2022-09-15T17:05:01.970Z"
   },
   {
    "duration": 11,
    "start_time": "2022-09-15T17:05:02.244Z"
   },
   {
    "duration": 310,
    "start_time": "2022-09-15T17:05:02.256Z"
   },
   {
    "duration": 17,
    "start_time": "2022-09-15T17:05:02.567Z"
   },
   {
    "duration": 274,
    "start_time": "2022-09-15T17:05:02.586Z"
   },
   {
    "duration": 11,
    "start_time": "2022-09-15T17:05:02.862Z"
   },
   {
    "duration": 23,
    "start_time": "2022-09-15T17:05:02.875Z"
   },
   {
    "duration": 839,
    "start_time": "2022-09-15T17:16:53.279Z"
   },
   {
    "duration": 53,
    "start_time": "2022-09-15T17:16:54.120Z"
   },
   {
    "duration": 19,
    "start_time": "2022-09-15T17:16:54.175Z"
   },
   {
    "duration": 27,
    "start_time": "2022-09-15T17:16:54.196Z"
   },
   {
    "duration": 37,
    "start_time": "2022-09-15T17:16:54.225Z"
   },
   {
    "duration": 1188,
    "start_time": "2022-09-15T17:16:54.263Z"
   },
   {
    "duration": 5,
    "start_time": "2022-09-15T17:16:55.454Z"
   },
   {
    "duration": 6,
    "start_time": "2022-09-15T17:16:55.461Z"
   },
   {
    "duration": 5,
    "start_time": "2022-09-15T17:16:55.469Z"
   },
   {
    "duration": 34,
    "start_time": "2022-09-15T17:16:55.477Z"
   },
   {
    "duration": 17,
    "start_time": "2022-09-15T17:16:55.514Z"
   },
   {
    "duration": 8,
    "start_time": "2022-09-15T17:16:55.533Z"
   },
   {
    "duration": 12,
    "start_time": "2022-09-15T17:16:55.543Z"
   },
   {
    "duration": 8,
    "start_time": "2022-09-15T17:16:55.557Z"
   },
   {
    "duration": 150,
    "start_time": "2022-09-15T17:16:55.567Z"
   },
   {
    "duration": 30,
    "start_time": "2022-09-15T17:16:55.719Z"
   },
   {
    "duration": 36,
    "start_time": "2022-09-15T17:16:55.750Z"
   },
   {
    "duration": 8,
    "start_time": "2022-09-15T17:16:55.808Z"
   },
   {
    "duration": 8,
    "start_time": "2022-09-15T17:16:55.818Z"
   },
   {
    "duration": 8,
    "start_time": "2022-09-15T17:16:55.828Z"
   },
   {
    "duration": 8,
    "start_time": "2022-09-15T17:16:55.837Z"
   },
   {
    "duration": 29,
    "start_time": "2022-09-15T17:16:55.847Z"
   },
   {
    "duration": 6,
    "start_time": "2022-09-15T17:16:55.910Z"
   },
   {
    "duration": 32,
    "start_time": "2022-09-15T17:16:55.919Z"
   },
   {
    "duration": 304,
    "start_time": "2022-09-15T17:16:55.953Z"
   },
   {
    "duration": 128,
    "start_time": "2022-09-15T17:16:56.259Z"
   },
   {
    "duration": 8,
    "start_time": "2022-09-15T17:16:56.389Z"
   },
   {
    "duration": 199,
    "start_time": "2022-09-15T17:16:56.410Z"
   },
   {
    "duration": 7,
    "start_time": "2022-09-15T17:16:56.610Z"
   },
   {
    "duration": 127,
    "start_time": "2022-09-15T17:16:56.619Z"
   },
   {
    "duration": 8,
    "start_time": "2022-09-15T17:16:56.748Z"
   },
   {
    "duration": 128,
    "start_time": "2022-09-15T17:16:56.757Z"
   },
   {
    "duration": 8,
    "start_time": "2022-09-15T17:16:56.887Z"
   },
   {
    "duration": 8,
    "start_time": "2022-09-15T17:16:56.908Z"
   },
   {
    "duration": 282,
    "start_time": "2022-09-15T17:16:56.917Z"
   },
   {
    "duration": 9,
    "start_time": "2022-09-15T17:16:57.201Z"
   },
   {
    "duration": 614,
    "start_time": "2022-09-15T17:16:57.212Z"
   },
   {
    "duration": 7,
    "start_time": "2022-09-15T17:16:57.827Z"
   },
   {
    "duration": 553,
    "start_time": "2022-09-15T17:16:57.836Z"
   },
   {
    "duration": 347,
    "start_time": "2022-09-15T17:16:58.391Z"
   },
   {
    "duration": 146,
    "start_time": "2022-09-15T17:16:58.739Z"
   },
   {
    "duration": 150,
    "start_time": "2022-09-15T17:16:58.886Z"
   },
   {
    "duration": 157,
    "start_time": "2022-09-15T17:16:59.037Z"
   },
   {
    "duration": 154,
    "start_time": "2022-09-15T17:16:59.196Z"
   },
   {
    "duration": 171,
    "start_time": "2022-09-15T17:16:59.351Z"
   },
   {
    "duration": 177,
    "start_time": "2022-09-15T17:16:59.524Z"
   },
   {
    "duration": 14,
    "start_time": "2022-09-15T17:16:59.703Z"
   },
   {
    "duration": 369,
    "start_time": "2022-09-15T17:16:59.718Z"
   },
   {
    "duration": 25,
    "start_time": "2022-09-15T17:17:00.089Z"
   },
   {
    "duration": 239,
    "start_time": "2022-09-15T17:17:00.116Z"
   },
   {
    "duration": 9,
    "start_time": "2022-09-15T17:17:00.357Z"
   },
   {
    "duration": 38,
    "start_time": "2022-09-15T17:17:00.367Z"
   },
   {
    "duration": 72,
    "start_time": "2022-09-15T17:18:01.501Z"
   },
   {
    "duration": 7,
    "start_time": "2022-09-15T17:18:05.091Z"
   },
   {
    "duration": 8,
    "start_time": "2022-09-15T17:18:27.101Z"
   },
   {
    "duration": 841,
    "start_time": "2022-09-15T18:04:30.196Z"
   },
   {
    "duration": 101,
    "start_time": "2022-09-15T18:04:31.039Z"
   },
   {
    "duration": 20,
    "start_time": "2022-09-15T18:04:31.145Z"
   },
   {
    "duration": 17,
    "start_time": "2022-09-15T18:04:31.167Z"
   },
   {
    "duration": 43,
    "start_time": "2022-09-15T18:04:31.186Z"
   },
   {
    "duration": 1313,
    "start_time": "2022-09-15T18:04:31.231Z"
   },
   {
    "duration": 4,
    "start_time": "2022-09-15T18:04:32.546Z"
   },
   {
    "duration": 15,
    "start_time": "2022-09-15T18:04:32.551Z"
   },
   {
    "duration": 3,
    "start_time": "2022-09-15T18:04:32.569Z"
   },
   {
    "duration": 10,
    "start_time": "2022-09-15T18:04:32.574Z"
   },
   {
    "duration": 25,
    "start_time": "2022-09-15T18:04:32.585Z"
   },
   {
    "duration": 8,
    "start_time": "2022-09-15T18:04:32.611Z"
   },
   {
    "duration": 10,
    "start_time": "2022-09-15T18:04:32.620Z"
   },
   {
    "duration": 8,
    "start_time": "2022-09-15T18:04:32.632Z"
   },
   {
    "duration": 132,
    "start_time": "2022-09-15T18:04:32.642Z"
   },
   {
    "duration": 33,
    "start_time": "2022-09-15T18:04:32.776Z"
   },
   {
    "duration": 27,
    "start_time": "2022-09-15T18:04:32.811Z"
   },
   {
    "duration": 6,
    "start_time": "2022-09-15T18:04:32.839Z"
   },
   {
    "duration": 11,
    "start_time": "2022-09-15T18:04:32.846Z"
   },
   {
    "duration": 6,
    "start_time": "2022-09-15T18:04:32.858Z"
   },
   {
    "duration": 6,
    "start_time": "2022-09-15T18:04:32.865Z"
   },
   {
    "duration": 5,
    "start_time": "2022-09-15T18:04:32.872Z"
   },
   {
    "duration": 20,
    "start_time": "2022-09-15T18:04:32.909Z"
   },
   {
    "duration": 374,
    "start_time": "2022-09-15T18:04:32.931Z"
   },
   {
    "duration": 122,
    "start_time": "2022-09-15T18:04:33.308Z"
   },
   {
    "duration": 7,
    "start_time": "2022-09-15T18:04:33.432Z"
   },
   {
    "duration": 120,
    "start_time": "2022-09-15T18:04:33.442Z"
   },
   {
    "duration": 7,
    "start_time": "2022-09-15T18:04:33.563Z"
   },
   {
    "duration": 126,
    "start_time": "2022-09-15T18:04:33.571Z"
   },
   {
    "duration": 11,
    "start_time": "2022-09-15T18:04:33.698Z"
   },
   {
    "duration": 112,
    "start_time": "2022-09-15T18:04:33.711Z"
   },
   {
    "duration": 6,
    "start_time": "2022-09-15T18:04:33.825Z"
   },
   {
    "duration": 8,
    "start_time": "2022-09-15T18:04:33.832Z"
   },
   {
    "duration": 278,
    "start_time": "2022-09-15T18:04:33.842Z"
   },
   {
    "duration": 4,
    "start_time": "2022-09-15T18:04:34.122Z"
   },
   {
    "duration": 688,
    "start_time": "2022-09-15T18:04:34.128Z"
   },
   {
    "duration": 6,
    "start_time": "2022-09-15T18:04:34.817Z"
   },
   {
    "duration": 458,
    "start_time": "2022-09-15T18:04:34.824Z"
   },
   {
    "duration": 330,
    "start_time": "2022-09-15T18:04:35.284Z"
   },
   {
    "duration": 140,
    "start_time": "2022-09-15T18:04:35.616Z"
   },
   {
    "duration": 141,
    "start_time": "2022-09-15T18:04:35.758Z"
   },
   {
    "duration": 144,
    "start_time": "2022-09-15T18:04:35.901Z"
   },
   {
    "duration": 134,
    "start_time": "2022-09-15T18:04:36.046Z"
   },
   {
    "duration": 165,
    "start_time": "2022-09-15T18:04:36.181Z"
   },
   {
    "duration": 248,
    "start_time": "2022-09-15T18:04:36.347Z"
   },
   {
    "duration": 17,
    "start_time": "2022-09-15T18:04:36.597Z"
   },
   {
    "duration": 275,
    "start_time": "2022-09-15T18:04:36.616Z"
   },
   {
    "duration": 19,
    "start_time": "2022-09-15T18:04:36.893Z"
   },
   {
    "duration": 183,
    "start_time": "2022-09-15T18:04:36.914Z"
   },
   {
    "duration": 12,
    "start_time": "2022-09-15T18:04:37.099Z"
   },
   {
    "duration": 9,
    "start_time": "2022-09-15T18:04:37.113Z"
   },
   {
    "duration": 118,
    "start_time": "2022-09-15T18:05:03.297Z"
   },
   {
    "duration": 764,
    "start_time": "2022-09-15T18:05:20.567Z"
   },
   {
    "duration": 51,
    "start_time": "2022-09-15T18:05:21.334Z"
   },
   {
    "duration": 19,
    "start_time": "2022-09-15T18:05:21.387Z"
   },
   {
    "duration": 14,
    "start_time": "2022-09-15T18:05:21.408Z"
   },
   {
    "duration": 26,
    "start_time": "2022-09-15T18:05:21.424Z"
   },
   {
    "duration": 3,
    "start_time": "2022-09-15T18:05:40.760Z"
   },
   {
    "duration": 52,
    "start_time": "2022-09-15T18:05:40.765Z"
   },
   {
    "duration": 11,
    "start_time": "2022-09-15T18:05:40.818Z"
   },
   {
    "duration": 14,
    "start_time": "2022-09-15T18:05:40.830Z"
   },
   {
    "duration": 22,
    "start_time": "2022-09-15T18:05:40.846Z"
   },
   {
    "duration": 2,
    "start_time": "2022-09-15T18:05:49.237Z"
   },
   {
    "duration": 75,
    "start_time": "2022-09-15T18:05:49.241Z"
   },
   {
    "duration": 12,
    "start_time": "2022-09-15T18:05:49.318Z"
   },
   {
    "duration": 16,
    "start_time": "2022-09-15T18:05:49.332Z"
   },
   {
    "duration": 36,
    "start_time": "2022-09-15T18:05:49.349Z"
   },
   {
    "duration": 3,
    "start_time": "2022-09-15T18:05:55.179Z"
   },
   {
    "duration": 812,
    "start_time": "2022-09-15T18:05:59.910Z"
   },
   {
    "duration": 53,
    "start_time": "2022-09-15T18:06:01.112Z"
   },
   {
    "duration": 18,
    "start_time": "2022-09-15T18:06:01.788Z"
   },
   {
    "duration": 15,
    "start_time": "2022-09-15T18:06:03.237Z"
   },
   {
    "duration": 25,
    "start_time": "2022-09-15T18:06:04.822Z"
   },
   {
    "duration": 1206,
    "start_time": "2022-09-15T18:06:06.597Z"
   },
   {
    "duration": 1064,
    "start_time": "2022-09-15T18:06:09.901Z"
   },
   {
    "duration": 358,
    "start_time": "2022-09-15T18:06:21.582Z"
   },
   {
    "duration": 156,
    "start_time": "2022-09-15T18:06:36.279Z"
   },
   {
    "duration": 127,
    "start_time": "2022-09-15T18:06:48.975Z"
   },
   {
    "duration": 133,
    "start_time": "2022-09-15T18:06:57.432Z"
   },
   {
    "duration": 929,
    "start_time": "2022-09-15T18:07:03.874Z"
   },
   {
    "duration": 162,
    "start_time": "2022-09-15T18:07:08.325Z"
   },
   {
    "duration": 871,
    "start_time": "2022-09-15T18:07:59.559Z"
   },
   {
    "duration": 641,
    "start_time": "2022-09-15T18:08:12.447Z"
   },
   {
    "duration": 188,
    "start_time": "2022-09-15T18:09:22.225Z"
   },
   {
    "duration": 17,
    "start_time": "2022-09-15T18:09:48.387Z"
   },
   {
    "duration": 5,
    "start_time": "2022-09-15T18:09:53.356Z"
   },
   {
    "duration": 256,
    "start_time": "2022-09-15T18:09:56.355Z"
   },
   {
    "duration": 5,
    "start_time": "2022-09-15T18:13:07.938Z"
   },
   {
    "duration": 168,
    "start_time": "2022-09-15T18:13:13.251Z"
   },
   {
    "duration": 6,
    "start_time": "2022-09-15T18:13:26.259Z"
   },
   {
    "duration": 148,
    "start_time": "2022-09-15T18:13:29.651Z"
   },
   {
    "duration": 4,
    "start_time": "2022-09-15T18:13:33.972Z"
   },
   {
    "duration": 5,
    "start_time": "2022-09-15T18:13:43.842Z"
   },
   {
    "duration": 7,
    "start_time": "2022-09-15T18:13:47.716Z"
   },
   {
    "duration": 5,
    "start_time": "2022-09-15T18:13:50.874Z"
   },
   {
    "duration": 144,
    "start_time": "2022-09-15T18:14:07.517Z"
   },
   {
    "duration": 142,
    "start_time": "2022-09-15T18:14:18.421Z"
   },
   {
    "duration": 161,
    "start_time": "2022-09-15T18:14:46.885Z"
   },
   {
    "duration": 4,
    "start_time": "2022-09-15T18:14:52.994Z"
   },
   {
    "duration": 4,
    "start_time": "2022-09-15T18:14:55.168Z"
   },
   {
    "duration": 4,
    "start_time": "2022-09-15T18:15:02.072Z"
   },
   {
    "duration": 5,
    "start_time": "2022-09-15T18:15:04.835Z"
   },
   {
    "duration": 4,
    "start_time": "2022-09-15T18:15:12.622Z"
   },
   {
    "duration": 173,
    "start_time": "2022-09-15T18:15:19.948Z"
   },
   {
    "duration": 4,
    "start_time": "2022-09-15T18:15:44.062Z"
   },
   {
    "duration": 222,
    "start_time": "2022-09-15T18:15:47.134Z"
   },
   {
    "duration": 4,
    "start_time": "2022-09-15T18:15:54.717Z"
   },
   {
    "duration": 5,
    "start_time": "2022-09-15T18:16:50.453Z"
   },
   {
    "duration": 182,
    "start_time": "2022-09-15T18:17:43.158Z"
   },
   {
    "duration": 147,
    "start_time": "2022-09-15T18:18:04.550Z"
   },
   {
    "duration": 143,
    "start_time": "2022-09-15T18:18:15.517Z"
   },
   {
    "duration": 170,
    "start_time": "2022-09-15T18:18:17.430Z"
   },
   {
    "duration": 4,
    "start_time": "2022-09-15T18:21:27.550Z"
   },
   {
    "duration": 4,
    "start_time": "2022-09-15T18:21:36.200Z"
   },
   {
    "duration": 5,
    "start_time": "2022-09-15T18:21:39.528Z"
   },
   {
    "duration": 4,
    "start_time": "2022-09-15T18:22:08.906Z"
   },
   {
    "duration": 4,
    "start_time": "2022-09-15T18:22:10.601Z"
   },
   {
    "duration": 4,
    "start_time": "2022-09-15T18:22:12.730Z"
   },
   {
    "duration": 3,
    "start_time": "2022-09-15T18:22:14.296Z"
   },
   {
    "duration": 20,
    "start_time": "2022-09-15T18:56:35.485Z"
   },
   {
    "duration": 5,
    "start_time": "2022-09-15T18:57:02.312Z"
   },
   {
    "duration": 19,
    "start_time": "2022-09-15T19:12:17.058Z"
   },
   {
    "duration": 9,
    "start_time": "2022-09-15T19:12:30.170Z"
   },
   {
    "duration": 9,
    "start_time": "2022-09-15T19:12:35.321Z"
   },
   {
    "duration": 7,
    "start_time": "2022-09-15T19:22:15.942Z"
   },
   {
    "duration": 15,
    "start_time": "2022-09-15T19:22:30.059Z"
   },
   {
    "duration": 18,
    "start_time": "2022-09-15T19:24:46.610Z"
   },
   {
    "duration": 25,
    "start_time": "2022-09-15T19:24:53.352Z"
   },
   {
    "duration": 22,
    "start_time": "2022-09-15T19:25:38.558Z"
   },
   {
    "duration": 10,
    "start_time": "2022-09-15T19:29:00.123Z"
   },
   {
    "duration": 7,
    "start_time": "2022-09-15T19:29:08.839Z"
   },
   {
    "duration": 59,
    "start_time": "2022-09-15T19:29:14.909Z"
   },
   {
    "duration": 9,
    "start_time": "2022-09-15T19:29:17.104Z"
   },
   {
    "duration": 15,
    "start_time": "2022-09-15T19:29:44.662Z"
   },
   {
    "duration": 14,
    "start_time": "2022-09-15T19:29:56.413Z"
   },
   {
    "duration": 19,
    "start_time": "2022-09-15T19:30:05.235Z"
   },
   {
    "duration": 17,
    "start_time": "2022-09-15T19:30:16.502Z"
   },
   {
    "duration": 921,
    "start_time": "2022-09-15T19:33:01.332Z"
   },
   {
    "duration": 4,
    "start_time": "2022-09-15T19:33:24.046Z"
   },
   {
    "duration": 4,
    "start_time": "2022-09-15T19:33:26.024Z"
   },
   {
    "duration": 899,
    "start_time": "2022-09-15T19:33:33.224Z"
   },
   {
    "duration": 6,
    "start_time": "2022-09-15T19:33:38.899Z"
   },
   {
    "duration": 10,
    "start_time": "2022-09-15T19:33:46.742Z"
   },
   {
    "duration": 5,
    "start_time": "2022-09-15T19:33:51.638Z"
   },
   {
    "duration": 10,
    "start_time": "2022-09-15T19:33:56.262Z"
   },
   {
    "duration": 5,
    "start_time": "2022-09-15T19:33:58.278Z"
   },
   {
    "duration": 8,
    "start_time": "2022-09-15T19:34:04.143Z"
   },
   {
    "duration": 10,
    "start_time": "2022-09-15T19:34:14.584Z"
   },
   {
    "duration": 7,
    "start_time": "2022-09-15T19:34:28.358Z"
   },
   {
    "duration": 11,
    "start_time": "2022-09-15T19:37:36.441Z"
   },
   {
    "duration": 5,
    "start_time": "2022-09-15T19:37:44.219Z"
   },
   {
    "duration": 6,
    "start_time": "2022-09-15T19:37:50.139Z"
   },
   {
    "duration": 9,
    "start_time": "2022-09-15T19:37:59.082Z"
   },
   {
    "duration": 6,
    "start_time": "2022-09-15T19:38:06.514Z"
   },
   {
    "duration": 6,
    "start_time": "2022-09-15T19:38:10.683Z"
   },
   {
    "duration": 22,
    "start_time": "2022-09-15T19:39:00.967Z"
   },
   {
    "duration": 8,
    "start_time": "2022-09-15T19:39:05.756Z"
   },
   {
    "duration": 5,
    "start_time": "2022-09-15T19:39:10.381Z"
   },
   {
    "duration": 9,
    "start_time": "2022-09-15T19:39:14.051Z"
   },
   {
    "duration": 6,
    "start_time": "2022-09-15T19:39:20.302Z"
   },
   {
    "duration": 6,
    "start_time": "2022-09-15T19:39:30.047Z"
   },
   {
    "duration": 766,
    "start_time": "2022-09-15T19:46:32.457Z"
   },
   {
    "duration": 59,
    "start_time": "2022-09-15T19:46:33.225Z"
   },
   {
    "duration": 18,
    "start_time": "2022-09-15T19:46:33.286Z"
   },
   {
    "duration": 13,
    "start_time": "2022-09-15T19:46:33.305Z"
   },
   {
    "duration": 25,
    "start_time": "2022-09-15T19:46:33.320Z"
   },
   {
    "duration": 1109,
    "start_time": "2022-09-15T19:46:33.346Z"
   },
   {
    "duration": 191,
    "start_time": "2022-09-15T19:46:34.458Z"
   },
   {
    "duration": 176,
    "start_time": "2022-09-15T19:46:34.650Z"
   },
   {
    "duration": 4,
    "start_time": "2022-09-15T19:46:34.827Z"
   },
   {
    "duration": 9,
    "start_time": "2022-09-15T19:46:34.834Z"
   },
   {
    "duration": 6,
    "start_time": "2022-09-15T19:46:34.844Z"
   },
   {
    "duration": 4,
    "start_time": "2022-09-15T19:46:34.852Z"
   },
   {
    "duration": 9,
    "start_time": "2022-09-15T19:46:34.858Z"
   },
   {
    "duration": 12,
    "start_time": "2022-09-15T19:46:34.868Z"
   },
   {
    "duration": 30,
    "start_time": "2022-09-15T19:46:34.882Z"
   },
   {
    "duration": 9,
    "start_time": "2022-09-15T19:46:34.914Z"
   },
   {
    "duration": 9,
    "start_time": "2022-09-15T19:46:34.924Z"
   },
   {
    "duration": 12,
    "start_time": "2022-09-15T19:46:34.934Z"
   },
   {
    "duration": 16,
    "start_time": "2022-09-15T19:46:34.948Z"
   },
   {
    "duration": 6,
    "start_time": "2022-09-15T19:46:34.965Z"
   },
   {
    "duration": 43,
    "start_time": "2022-09-15T19:46:34.972Z"
   },
   {
    "duration": 129,
    "start_time": "2022-09-15T19:46:35.017Z"
   },
   {
    "duration": 28,
    "start_time": "2022-09-15T19:46:35.148Z"
   },
   {
    "duration": 48,
    "start_time": "2022-09-15T19:46:35.178Z"
   },
   {
    "duration": 9,
    "start_time": "2022-09-15T19:46:35.227Z"
   },
   {
    "duration": 7,
    "start_time": "2022-09-15T19:46:35.237Z"
   },
   {
    "duration": 7,
    "start_time": "2022-09-15T19:46:35.245Z"
   },
   {
    "duration": 7,
    "start_time": "2022-09-15T19:46:35.254Z"
   },
   {
    "duration": 5,
    "start_time": "2022-09-15T19:46:35.263Z"
   },
   {
    "duration": 845,
    "start_time": "2022-09-16T09:46:28.395Z"
   },
   {
    "duration": 101,
    "start_time": "2022-09-16T09:46:29.242Z"
   },
   {
    "duration": 19,
    "start_time": "2022-09-16T09:46:29.344Z"
   },
   {
    "duration": 38,
    "start_time": "2022-09-16T09:46:29.364Z"
   },
   {
    "duration": 55,
    "start_time": "2022-09-16T09:46:29.404Z"
   },
   {
    "duration": 1431,
    "start_time": "2022-09-16T09:46:29.460Z"
   },
   {
    "duration": 164,
    "start_time": "2022-09-16T09:46:30.892Z"
   },
   {
    "duration": 278,
    "start_time": "2022-09-16T09:46:31.057Z"
   },
   {
    "duration": 5,
    "start_time": "2022-09-16T09:46:31.339Z"
   },
   {
    "duration": 10,
    "start_time": "2022-09-16T09:46:31.345Z"
   },
   {
    "duration": 10,
    "start_time": "2022-09-16T09:46:31.357Z"
   },
   {
    "duration": 21,
    "start_time": "2022-09-16T09:46:31.369Z"
   },
   {
    "duration": 23,
    "start_time": "2022-09-16T09:46:31.392Z"
   },
   {
    "duration": 54,
    "start_time": "2022-09-16T09:46:31.418Z"
   },
   {
    "duration": 9,
    "start_time": "2022-09-16T09:46:31.474Z"
   },
   {
    "duration": 47,
    "start_time": "2022-09-16T09:46:31.485Z"
   },
   {
    "duration": 18,
    "start_time": "2022-09-16T09:46:31.534Z"
   },
   {
    "duration": 15,
    "start_time": "2022-09-16T09:46:31.553Z"
   },
   {
    "duration": 27,
    "start_time": "2022-09-16T09:46:31.569Z"
   },
   {
    "duration": 6,
    "start_time": "2022-09-16T09:46:31.597Z"
   },
   {
    "duration": 37,
    "start_time": "2022-09-16T09:46:31.604Z"
   },
   {
    "duration": 145,
    "start_time": "2022-09-16T09:46:31.643Z"
   },
   {
    "duration": 33,
    "start_time": "2022-09-16T09:46:31.790Z"
   },
   {
    "duration": 36,
    "start_time": "2022-09-16T09:46:31.824Z"
   },
   {
    "duration": 7,
    "start_time": "2022-09-16T09:46:31.861Z"
   },
   {
    "duration": 8,
    "start_time": "2022-09-16T09:46:31.869Z"
   },
   {
    "duration": 20,
    "start_time": "2022-09-16T09:46:31.878Z"
   },
   {
    "duration": 38,
    "start_time": "2022-09-16T09:46:31.900Z"
   },
   {
    "duration": 7,
    "start_time": "2022-09-16T09:46:42.088Z"
   },
   {
    "duration": 22,
    "start_time": "2022-09-16T09:46:51.305Z"
   },
   {
    "duration": 6,
    "start_time": "2022-09-16T09:46:59.761Z"
   },
   {
    "duration": 16,
    "start_time": "2022-09-16T10:54:52.958Z"
   },
   {
    "duration": 13,
    "start_time": "2022-09-16T10:54:56.536Z"
   },
   {
    "duration": 8,
    "start_time": "2022-09-16T10:56:00.532Z"
   },
   {
    "duration": 9,
    "start_time": "2022-09-16T10:56:11.155Z"
   },
   {
    "duration": 17,
    "start_time": "2022-09-16T10:56:19.937Z"
   },
   {
    "duration": 22,
    "start_time": "2022-09-16T10:56:48.471Z"
   },
   {
    "duration": 15,
    "start_time": "2022-09-16T10:56:57.147Z"
   },
   {
    "duration": 7,
    "start_time": "2022-09-16T10:58:10.533Z"
   },
   {
    "duration": 113,
    "start_time": "2022-09-16T10:58:20.134Z"
   },
   {
    "duration": 12,
    "start_time": "2022-09-16T10:58:22.648Z"
   },
   {
    "duration": 8,
    "start_time": "2022-09-16T10:58:32.392Z"
   },
   {
    "duration": 10,
    "start_time": "2022-09-16T10:58:45.269Z"
   },
   {
    "duration": 5,
    "start_time": "2022-09-16T10:58:49.302Z"
   },
   {
    "duration": 5,
    "start_time": "2022-09-16T10:58:52.886Z"
   },
   {
    "duration": 7,
    "start_time": "2022-09-16T13:31:08.762Z"
   },
   {
    "duration": 5,
    "start_time": "2022-09-16T13:31:11.797Z"
   },
   {
    "duration": 20,
    "start_time": "2022-09-16T13:31:20.280Z"
   },
   {
    "duration": 6,
    "start_time": "2022-09-16T13:31:49.354Z"
   },
   {
    "duration": 7,
    "start_time": "2022-09-16T13:31:51.824Z"
   },
   {
    "duration": 6,
    "start_time": "2022-09-16T13:31:54.132Z"
   },
   {
    "duration": 10,
    "start_time": "2022-09-16T13:32:04.213Z"
   },
   {
    "duration": 16,
    "start_time": "2022-09-16T13:32:07.751Z"
   },
   {
    "duration": 7,
    "start_time": "2022-09-16T13:32:16.394Z"
   },
   {
    "duration": 4,
    "start_time": "2022-09-16T13:32:22.083Z"
   },
   {
    "duration": 7,
    "start_time": "2022-09-16T13:32:40.228Z"
   },
   {
    "duration": 17,
    "start_time": "2022-09-16T13:32:45.986Z"
   },
   {
    "duration": 13,
    "start_time": "2022-09-16T13:32:53.226Z"
   },
   {
    "duration": 9,
    "start_time": "2022-09-16T13:32:57.250Z"
   },
   {
    "duration": 9,
    "start_time": "2022-09-16T13:33:16.834Z"
   },
   {
    "duration": 8,
    "start_time": "2022-09-16T13:33:19.549Z"
   },
   {
    "duration": 16,
    "start_time": "2022-09-16T13:33:30.952Z"
   },
   {
    "duration": 16,
    "start_time": "2022-09-16T13:34:31.525Z"
   },
   {
    "duration": 18,
    "start_time": "2022-09-16T13:34:35.108Z"
   },
   {
    "duration": 19,
    "start_time": "2022-09-16T13:34:37.603Z"
   },
   {
    "duration": 18,
    "start_time": "2022-09-16T13:37:30.838Z"
   },
   {
    "duration": 18,
    "start_time": "2022-09-16T13:37:36.709Z"
   },
   {
    "duration": 18,
    "start_time": "2022-09-16T13:48:02.856Z"
   },
   {
    "duration": 7,
    "start_time": "2022-09-16T13:49:03.556Z"
   },
   {
    "duration": 20,
    "start_time": "2022-09-16T13:49:07.126Z"
   },
   {
    "duration": 16,
    "start_time": "2022-09-16T13:49:15.535Z"
   },
   {
    "duration": 5,
    "start_time": "2022-09-16T13:49:17.197Z"
   },
   {
    "duration": 16,
    "start_time": "2022-09-16T13:49:20.104Z"
   },
   {
    "duration": 3,
    "start_time": "2022-09-16T15:12:05.796Z"
   },
   {
    "duration": 57,
    "start_time": "2022-09-16T15:12:05.801Z"
   },
   {
    "duration": 11,
    "start_time": "2022-09-16T15:12:05.860Z"
   },
   {
    "duration": 24,
    "start_time": "2022-09-16T15:12:05.873Z"
   },
   {
    "duration": 32,
    "start_time": "2022-09-16T15:12:05.899Z"
   },
   {
    "duration": 893,
    "start_time": "2022-09-16T15:12:05.932Z"
   },
   {
    "duration": 161,
    "start_time": "2022-09-16T15:12:06.827Z"
   },
   {
    "duration": 186,
    "start_time": "2022-09-16T15:12:06.990Z"
   },
   {
    "duration": 4,
    "start_time": "2022-09-16T15:12:07.178Z"
   },
   {
    "duration": 9,
    "start_time": "2022-09-16T15:12:07.184Z"
   },
   {
    "duration": 14,
    "start_time": "2022-09-16T15:12:07.195Z"
   },
   {
    "duration": 32,
    "start_time": "2022-09-16T15:12:07.210Z"
   },
   {
    "duration": 16,
    "start_time": "2022-09-16T15:12:07.245Z"
   },
   {
    "duration": 25,
    "start_time": "2022-09-16T15:12:07.263Z"
   },
   {
    "duration": 18,
    "start_time": "2022-09-16T15:12:07.289Z"
   },
   {
    "duration": 16,
    "start_time": "2022-09-16T15:12:07.308Z"
   },
   {
    "duration": 85,
    "start_time": "2022-09-16T15:12:07.325Z"
   },
   {
    "duration": 15,
    "start_time": "2022-09-16T15:12:07.412Z"
   },
   {
    "duration": 40,
    "start_time": "2022-09-16T15:12:07.429Z"
   },
   {
    "duration": 7,
    "start_time": "2022-09-16T15:12:07.471Z"
   },
   {
    "duration": 7,
    "start_time": "2022-09-16T15:12:07.480Z"
   },
   {
    "duration": 138,
    "start_time": "2022-09-16T15:12:07.488Z"
   },
   {
    "duration": 29,
    "start_time": "2022-09-16T15:12:07.628Z"
   },
   {
    "duration": 27,
    "start_time": "2022-09-16T15:12:07.659Z"
   },
   {
    "duration": 27,
    "start_time": "2022-09-16T15:12:07.688Z"
   },
   {
    "duration": 15,
    "start_time": "2022-09-16T15:12:07.717Z"
   },
   {
    "duration": 28,
    "start_time": "2022-09-16T15:12:07.734Z"
   },
   {
    "duration": 11,
    "start_time": "2022-09-16T15:12:07.764Z"
   },
   {
    "duration": 24,
    "start_time": "2022-09-16T15:12:07.776Z"
   },
   {
    "duration": 21,
    "start_time": "2022-09-16T15:12:07.802Z"
   },
   {
    "duration": 293,
    "start_time": "2022-09-16T15:12:07.825Z"
   },
   {
    "duration": 135,
    "start_time": "2022-09-16T15:12:08.120Z"
   },
   {
    "duration": 8,
    "start_time": "2022-09-16T15:12:08.256Z"
   },
   {
    "duration": 120,
    "start_time": "2022-09-16T15:12:08.265Z"
   },
   {
    "duration": 7,
    "start_time": "2022-09-16T15:12:08.386Z"
   },
   {
    "duration": 121,
    "start_time": "2022-09-16T15:12:08.395Z"
   },
   {
    "duration": 6,
    "start_time": "2022-09-16T15:12:08.520Z"
   },
   {
    "duration": 130,
    "start_time": "2022-09-16T15:12:08.527Z"
   },
   {
    "duration": 7,
    "start_time": "2022-09-16T15:12:08.658Z"
   },
   {
    "duration": 5,
    "start_time": "2022-09-16T15:12:08.666Z"
   },
   {
    "duration": 38,
    "start_time": "2022-09-16T15:12:08.672Z"
   },
   {
    "duration": 5,
    "start_time": "2022-09-16T15:12:08.712Z"
   },
   {
    "duration": 8,
    "start_time": "2022-09-16T15:12:08.718Z"
   },
   {
    "duration": 19,
    "start_time": "2022-09-16T15:12:08.727Z"
   },
   {
    "duration": 5,
    "start_time": "2022-09-16T15:12:20.523Z"
   },
   {
    "duration": 7,
    "start_time": "2022-09-16T15:12:23.019Z"
   },
   {
    "duration": 24,
    "start_time": "2022-09-16T15:12:28.043Z"
   },
   {
    "duration": 10,
    "start_time": "2022-09-16T15:12:30.667Z"
   },
   {
    "duration": 265,
    "start_time": "2022-09-16T15:12:32.270Z"
   },
   {
    "duration": 273,
    "start_time": "2022-09-16T15:18:37.255Z"
   },
   {
    "duration": 3,
    "start_time": "2022-09-16T15:43:56.006Z"
   },
   {
    "duration": 51,
    "start_time": "2022-09-16T15:43:56.011Z"
   },
   {
    "duration": 12,
    "start_time": "2022-09-16T15:43:56.063Z"
   },
   {
    "duration": 13,
    "start_time": "2022-09-16T15:43:56.077Z"
   },
   {
    "duration": 105,
    "start_time": "2022-09-16T15:43:56.091Z"
   },
   {
    "duration": 889,
    "start_time": "2022-09-16T15:43:56.208Z"
   },
   {
    "duration": 165,
    "start_time": "2022-09-16T15:43:57.098Z"
   },
   {
    "duration": 184,
    "start_time": "2022-09-16T15:43:57.264Z"
   },
   {
    "duration": 3,
    "start_time": "2022-09-16T15:43:57.449Z"
   },
   {
    "duration": 5,
    "start_time": "2022-09-16T15:43:57.454Z"
   },
   {
    "duration": 6,
    "start_time": "2022-09-16T15:43:57.461Z"
   },
   {
    "duration": 4,
    "start_time": "2022-09-16T15:43:57.468Z"
   },
   {
    "duration": 35,
    "start_time": "2022-09-16T15:43:57.475Z"
   },
   {
    "duration": 12,
    "start_time": "2022-09-16T15:43:57.511Z"
   },
   {
    "duration": 16,
    "start_time": "2022-09-16T15:43:57.524Z"
   },
   {
    "duration": 14,
    "start_time": "2022-09-16T15:43:57.541Z"
   },
   {
    "duration": 23,
    "start_time": "2022-09-16T15:43:57.556Z"
   },
   {
    "duration": 27,
    "start_time": "2022-09-16T15:43:57.580Z"
   },
   {
    "duration": 19,
    "start_time": "2022-09-16T15:43:57.609Z"
   },
   {
    "duration": 20,
    "start_time": "2022-09-16T15:43:57.629Z"
   },
   {
    "duration": 35,
    "start_time": "2022-09-16T15:43:57.650Z"
   },
   {
    "duration": 132,
    "start_time": "2022-09-16T15:43:57.686Z"
   },
   {
    "duration": 28,
    "start_time": "2022-09-16T15:43:57.820Z"
   },
   {
    "duration": 28,
    "start_time": "2022-09-16T15:43:57.850Z"
   },
   {
    "duration": 35,
    "start_time": "2022-09-16T15:43:57.880Z"
   },
   {
    "duration": 7,
    "start_time": "2022-09-16T15:43:57.916Z"
   },
   {
    "duration": 7,
    "start_time": "2022-09-16T15:43:57.924Z"
   },
   {
    "duration": 7,
    "start_time": "2022-09-16T15:43:57.932Z"
   },
   {
    "duration": 5,
    "start_time": "2022-09-16T15:43:57.940Z"
   },
   {
    "duration": 22,
    "start_time": "2022-09-16T15:43:57.946Z"
   },
   {
    "duration": 432,
    "start_time": "2022-09-16T15:43:57.969Z"
   },
   {
    "duration": 137,
    "start_time": "2022-09-16T15:43:58.403Z"
   },
   {
    "duration": 7,
    "start_time": "2022-09-16T15:43:58.542Z"
   },
   {
    "duration": 125,
    "start_time": "2022-09-16T15:43:58.550Z"
   },
   {
    "duration": 6,
    "start_time": "2022-09-16T15:43:58.677Z"
   },
   {
    "duration": 127,
    "start_time": "2022-09-16T15:43:58.685Z"
   },
   {
    "duration": 6,
    "start_time": "2022-09-16T15:43:58.816Z"
   },
   {
    "duration": 128,
    "start_time": "2022-09-16T15:43:58.824Z"
   },
   {
    "duration": 7,
    "start_time": "2022-09-16T15:43:58.953Z"
   },
   {
    "duration": 5,
    "start_time": "2022-09-16T15:43:58.961Z"
   },
   {
    "duration": 20,
    "start_time": "2022-09-16T15:43:58.968Z"
   },
   {
    "duration": 22,
    "start_time": "2022-09-16T15:43:58.989Z"
   },
   {
    "duration": 11,
    "start_time": "2022-09-16T15:43:59.012Z"
   },
   {
    "duration": 14,
    "start_time": "2022-09-16T15:43:59.024Z"
   },
   {
    "duration": 305,
    "start_time": "2022-09-16T15:43:59.040Z"
   },
   {
    "duration": 266,
    "start_time": "2022-09-16T15:43:59.347Z"
   },
   {
    "duration": 4,
    "start_time": "2022-09-16T15:43:59.615Z"
   },
   {
    "duration": 676,
    "start_time": "2022-09-16T15:43:59.621Z"
   },
   {
    "duration": 5,
    "start_time": "2022-09-16T15:44:13.384Z"
   },
   {
    "duration": 230,
    "start_time": "2022-09-16T15:44:17.815Z"
   },
   {
    "duration": 247,
    "start_time": "2022-09-16T15:50:01.745Z"
   },
   {
    "duration": 165,
    "start_time": "2022-09-16T15:52:06.821Z"
   },
   {
    "duration": 8,
    "start_time": "2022-09-16T15:53:39.549Z"
   },
   {
    "duration": 240,
    "start_time": "2022-09-16T15:54:02.030Z"
   },
   {
    "duration": 247,
    "start_time": "2022-09-16T15:55:58.346Z"
   },
   {
    "duration": 314,
    "start_time": "2022-09-16T15:56:28.674Z"
   },
   {
    "duration": 230,
    "start_time": "2022-09-16T15:56:33.296Z"
   },
   {
    "duration": 259,
    "start_time": "2022-09-16T15:57:01.787Z"
   },
   {
    "duration": 253,
    "start_time": "2022-09-16T15:57:06.259Z"
   },
   {
    "duration": 250,
    "start_time": "2022-09-16T15:57:13.894Z"
   },
   {
    "duration": 316,
    "start_time": "2022-09-16T15:57:19.208Z"
   },
   {
    "duration": 242,
    "start_time": "2022-09-16T15:58:30.025Z"
   },
   {
    "duration": 136,
    "start_time": "2022-09-16T15:58:49.985Z"
   },
   {
    "duration": 120,
    "start_time": "2022-09-16T15:58:55.089Z"
   },
   {
    "duration": 8,
    "start_time": "2022-09-16T16:06:29.469Z"
   },
   {
    "duration": 76,
    "start_time": "2022-09-16T16:06:35.886Z"
   },
   {
    "duration": 10,
    "start_time": "2022-09-16T16:06:39.266Z"
   },
   {
    "duration": 13,
    "start_time": "2022-09-16T16:06:42.237Z"
   },
   {
    "duration": 386,
    "start_time": "2022-09-16T16:07:01.583Z"
   },
   {
    "duration": 287,
    "start_time": "2022-09-16T16:07:35.528Z"
   },
   {
    "duration": 17,
    "start_time": "2022-09-16T16:08:03.476Z"
   },
   {
    "duration": 305,
    "start_time": "2022-09-16T16:08:09.466Z"
   },
   {
    "duration": 313,
    "start_time": "2022-09-16T16:08:13.583Z"
   },
   {
    "duration": 221,
    "start_time": "2022-09-16T16:25:51.258Z"
   },
   {
    "duration": 218,
    "start_time": "2022-09-16T16:36:51.910Z"
   },
   {
    "duration": 10,
    "start_time": "2022-09-16T16:36:57.369Z"
   },
   {
    "duration": 170,
    "start_time": "2022-09-16T16:37:34.949Z"
   },
   {
    "duration": 166,
    "start_time": "2022-09-16T16:37:42.689Z"
   },
   {
    "duration": 6,
    "start_time": "2022-09-16T16:41:06.480Z"
   },
   {
    "duration": 5,
    "start_time": "2022-09-16T16:42:05.740Z"
   },
   {
    "duration": 5,
    "start_time": "2022-09-16T16:42:08.382Z"
   },
   {
    "duration": 10,
    "start_time": "2022-09-16T16:42:22.255Z"
   },
   {
    "duration": 4,
    "start_time": "2022-09-16T16:43:40.093Z"
   },
   {
    "duration": 177,
    "start_time": "2022-09-16T16:43:43.121Z"
   },
   {
    "duration": 6,
    "start_time": "2022-09-16T16:44:02.702Z"
   },
   {
    "duration": 553,
    "start_time": "2022-09-16T16:44:46.545Z"
   },
   {
    "duration": 9,
    "start_time": "2022-09-16T16:52:50.100Z"
   },
   {
    "duration": 11,
    "start_time": "2022-09-16T16:53:02.340Z"
   },
   {
    "duration": 4,
    "start_time": "2022-09-16T16:53:05.612Z"
   },
   {
    "duration": 2,
    "start_time": "2022-09-16T16:53:09.585Z"
   },
   {
    "duration": 56,
    "start_time": "2022-09-16T16:53:09.591Z"
   },
   {
    "duration": 11,
    "start_time": "2022-09-16T16:53:09.649Z"
   },
   {
    "duration": 25,
    "start_time": "2022-09-16T16:53:09.662Z"
   },
   {
    "duration": 27,
    "start_time": "2022-09-16T16:53:09.688Z"
   },
   {
    "duration": 871,
    "start_time": "2022-09-16T16:53:09.717Z"
   },
   {
    "duration": 235,
    "start_time": "2022-09-16T16:53:10.589Z"
   },
   {
    "duration": 182,
    "start_time": "2022-09-16T16:53:10.825Z"
   },
   {
    "duration": 3,
    "start_time": "2022-09-16T16:53:11.008Z"
   },
   {
    "duration": 9,
    "start_time": "2022-09-16T16:53:11.013Z"
   },
   {
    "duration": 15,
    "start_time": "2022-09-16T16:53:11.023Z"
   },
   {
    "duration": 6,
    "start_time": "2022-09-16T16:53:11.039Z"
   },
   {
    "duration": 9,
    "start_time": "2022-09-16T16:53:11.047Z"
   },
   {
    "duration": 12,
    "start_time": "2022-09-16T16:53:11.057Z"
   },
   {
    "duration": 7,
    "start_time": "2022-09-16T16:53:11.071Z"
   },
   {
    "duration": 9,
    "start_time": "2022-09-16T16:53:11.079Z"
   },
   {
    "duration": 26,
    "start_time": "2022-09-16T16:53:11.089Z"
   },
   {
    "duration": 14,
    "start_time": "2022-09-16T16:53:11.116Z"
   },
   {
    "duration": 18,
    "start_time": "2022-09-16T16:53:11.131Z"
   },
   {
    "duration": 6,
    "start_time": "2022-09-16T16:53:11.150Z"
   },
   {
    "duration": 21,
    "start_time": "2022-09-16T16:53:11.157Z"
   },
   {
    "duration": 130,
    "start_time": "2022-09-16T16:53:11.180Z"
   },
   {
    "duration": 27,
    "start_time": "2022-09-16T16:53:11.312Z"
   },
   {
    "duration": 32,
    "start_time": "2022-09-16T16:53:11.340Z"
   },
   {
    "duration": 6,
    "start_time": "2022-09-16T16:53:11.373Z"
   },
   {
    "duration": 10,
    "start_time": "2022-09-16T16:53:11.381Z"
   },
   {
    "duration": 6,
    "start_time": "2022-09-16T16:53:11.409Z"
   },
   {
    "duration": 6,
    "start_time": "2022-09-16T16:53:11.417Z"
   },
   {
    "duration": 4,
    "start_time": "2022-09-16T16:53:11.425Z"
   },
   {
    "duration": 18,
    "start_time": "2022-09-16T16:53:11.430Z"
   },
   {
    "duration": 321,
    "start_time": "2022-09-16T16:53:11.449Z"
   },
   {
    "duration": 122,
    "start_time": "2022-09-16T16:53:11.771Z"
   },
   {
    "duration": 15,
    "start_time": "2022-09-16T16:53:11.895Z"
   },
   {
    "duration": 124,
    "start_time": "2022-09-16T16:53:11.911Z"
   },
   {
    "duration": 6,
    "start_time": "2022-09-16T16:53:12.036Z"
   },
   {
    "duration": 117,
    "start_time": "2022-09-16T16:53:12.043Z"
   },
   {
    "duration": 6,
    "start_time": "2022-09-16T16:53:12.161Z"
   },
   {
    "duration": 132,
    "start_time": "2022-09-16T16:53:12.169Z"
   },
   {
    "duration": 9,
    "start_time": "2022-09-16T16:53:12.303Z"
   },
   {
    "duration": 3,
    "start_time": "2022-09-16T16:53:12.313Z"
   },
   {
    "duration": 19,
    "start_time": "2022-09-16T16:53:12.317Z"
   },
   {
    "duration": 4,
    "start_time": "2022-09-16T16:53:12.340Z"
   },
   {
    "duration": 7,
    "start_time": "2022-09-16T16:53:12.345Z"
   },
   {
    "duration": 15,
    "start_time": "2022-09-16T16:53:12.353Z"
   },
   {
    "duration": 382,
    "start_time": "2022-09-16T16:53:12.369Z"
   },
   {
    "duration": 273,
    "start_time": "2022-09-16T16:53:12.753Z"
   },
   {
    "duration": 5,
    "start_time": "2022-09-16T16:53:13.027Z"
   },
   {
    "duration": 579,
    "start_time": "2022-09-16T16:53:13.033Z"
   },
   {
    "duration": 5,
    "start_time": "2022-09-16T16:53:13.613Z"
   },
   {
    "duration": 233,
    "start_time": "2022-09-16T16:53:13.619Z"
   },
   {
    "duration": 270,
    "start_time": "2022-09-16T16:53:13.854Z"
   },
   {
    "duration": 341,
    "start_time": "2022-09-16T16:53:14.125Z"
   },
   {
    "duration": 141,
    "start_time": "2022-09-16T16:53:14.468Z"
   },
   {
    "duration": 123,
    "start_time": "2022-09-16T16:53:14.610Z"
   },
   {
    "duration": 284,
    "start_time": "2022-09-16T16:53:14.734Z"
   },
   {
    "duration": 133,
    "start_time": "2022-09-16T16:53:15.019Z"
   },
   {
    "duration": 129,
    "start_time": "2022-09-16T16:53:15.154Z"
   },
   {
    "duration": 159,
    "start_time": "2022-09-16T16:53:15.284Z"
   },
   {
    "duration": 178,
    "start_time": "2022-09-16T16:53:15.445Z"
   },
   {
    "duration": 157,
    "start_time": "2022-09-16T16:53:15.625Z"
   },
   {
    "duration": 10,
    "start_time": "2022-09-16T16:53:15.783Z"
   },
   {
    "duration": 233,
    "start_time": "2022-09-16T16:53:15.794Z"
   },
   {
    "duration": 9,
    "start_time": "2022-09-16T16:53:16.029Z"
   },
   {
    "duration": 183,
    "start_time": "2022-09-16T16:53:16.039Z"
   },
   {
    "duration": 19,
    "start_time": "2022-09-16T16:53:16.225Z"
   },
   {
    "duration": 5,
    "start_time": "2022-09-16T16:53:28.308Z"
   },
   {
    "duration": 12,
    "start_time": "2022-09-16T16:53:42.995Z"
   },
   {
    "duration": 4,
    "start_time": "2022-09-16T16:53:58.014Z"
   },
   {
    "duration": 4,
    "start_time": "2022-09-16T16:54:11.093Z"
   },
   {
    "duration": 4,
    "start_time": "2022-09-16T16:54:17.245Z"
   },
   {
    "duration": 11,
    "start_time": "2022-09-16T16:54:21.205Z"
   },
   {
    "duration": 170,
    "start_time": "2022-09-16T16:54:25.547Z"
   },
   {
    "duration": 3,
    "start_time": "2022-09-16T16:56:15.223Z"
   },
   {
    "duration": 21,
    "start_time": "2022-09-16T16:56:48.413Z"
   },
   {
    "duration": 21,
    "start_time": "2022-09-16T16:56:55.587Z"
   },
   {
    "duration": 20,
    "start_time": "2022-09-16T16:56:58.055Z"
   },
   {
    "duration": 4,
    "start_time": "2022-09-16T16:57:04.095Z"
   },
   {
    "duration": 5,
    "start_time": "2022-09-16T16:57:20.985Z"
   },
   {
    "duration": 7,
    "start_time": "2022-09-16T16:57:30.223Z"
   },
   {
    "duration": 926,
    "start_time": "2022-09-16T16:57:37.882Z"
   },
   {
    "duration": 7,
    "start_time": "2022-09-16T16:57:48.929Z"
   },
   {
    "duration": 6,
    "start_time": "2022-09-16T16:57:54.799Z"
   },
   {
    "duration": 160,
    "start_time": "2022-09-16T16:58:17.387Z"
   },
   {
    "duration": 91,
    "start_time": "2022-09-16T16:58:36.930Z"
   },
   {
    "duration": 89,
    "start_time": "2022-09-16T16:58:41.264Z"
   },
   {
    "duration": 91,
    "start_time": "2022-09-16T16:59:05.144Z"
   },
   {
    "duration": 101,
    "start_time": "2022-09-16T16:59:06.904Z"
   },
   {
    "duration": 96,
    "start_time": "2022-09-16T16:59:08.303Z"
   },
   {
    "duration": 90,
    "start_time": "2022-09-16T16:59:16.207Z"
   },
   {
    "duration": 95,
    "start_time": "2022-09-16T16:59:19.337Z"
   },
   {
    "duration": 93,
    "start_time": "2022-09-16T16:59:22.432Z"
   },
   {
    "duration": 211,
    "start_time": "2022-09-16T17:00:33.122Z"
   },
   {
    "duration": 106,
    "start_time": "2022-09-16T17:00:38.916Z"
   },
   {
    "duration": 5,
    "start_time": "2022-09-16T17:01:00.996Z"
   },
   {
    "duration": 348,
    "start_time": "2022-09-16T17:01:09.849Z"
   },
   {
    "duration": 50,
    "start_time": "2022-09-16T17:01:25.842Z"
   },
   {
    "duration": 68,
    "start_time": "2022-09-16T17:01:28.388Z"
   },
   {
    "duration": 105,
    "start_time": "2022-09-16T17:02:00.065Z"
   },
   {
    "duration": 461,
    "start_time": "2022-09-16T17:02:17.582Z"
   },
   {
    "duration": 357,
    "start_time": "2022-09-16T17:02:28.184Z"
   },
   {
    "duration": 380,
    "start_time": "2022-09-16T17:03:02.286Z"
   },
   {
    "duration": 367,
    "start_time": "2022-09-16T17:03:06.723Z"
   },
   {
    "duration": 403,
    "start_time": "2022-09-16T17:04:28.595Z"
   },
   {
    "duration": 97,
    "start_time": "2022-09-16T17:04:41.844Z"
   },
   {
    "duration": 494,
    "start_time": "2022-09-16T17:04:44.621Z"
   },
   {
    "duration": 104,
    "start_time": "2022-09-16T17:05:33.013Z"
   },
   {
    "duration": 106,
    "start_time": "2022-09-16T17:05:40.285Z"
   },
   {
    "duration": 382,
    "start_time": "2022-09-16T17:05:47.508Z"
   },
   {
    "duration": 1827,
    "start_time": "2022-09-16T17:06:57.064Z"
   },
   {
    "duration": 379,
    "start_time": "2022-09-16T17:07:17.886Z"
   },
   {
    "duration": 171,
    "start_time": "2022-09-16T17:10:18.021Z"
   },
   {
    "duration": 177,
    "start_time": "2022-09-16T17:10:22.826Z"
   },
   {
    "duration": 1114,
    "start_time": "2022-09-16T17:10:30.182Z"
   },
   {
    "duration": 91,
    "start_time": "2022-09-16T17:10:31.298Z"
   },
   {
    "duration": 15,
    "start_time": "2022-09-16T17:10:31.390Z"
   },
   {
    "duration": 15,
    "start_time": "2022-09-16T17:10:31.407Z"
   },
   {
    "duration": 35,
    "start_time": "2022-09-16T17:10:31.424Z"
   },
   {
    "duration": 863,
    "start_time": "2022-09-16T17:10:31.461Z"
   },
   {
    "duration": 143,
    "start_time": "2022-09-16T17:10:32.326Z"
   },
   {
    "duration": 211,
    "start_time": "2022-09-16T17:10:32.470Z"
   },
   {
    "duration": 3,
    "start_time": "2022-09-16T17:10:32.682Z"
   },
   {
    "duration": 5,
    "start_time": "2022-09-16T17:10:32.687Z"
   },
   {
    "duration": 15,
    "start_time": "2022-09-16T17:10:32.693Z"
   },
   {
    "duration": 3,
    "start_time": "2022-09-16T17:10:32.710Z"
   },
   {
    "duration": 10,
    "start_time": "2022-09-16T17:10:32.714Z"
   },
   {
    "duration": 11,
    "start_time": "2022-09-16T17:10:32.725Z"
   },
   {
    "duration": 16,
    "start_time": "2022-09-16T17:10:32.737Z"
   },
   {
    "duration": 9,
    "start_time": "2022-09-16T17:10:32.755Z"
   },
   {
    "duration": 9,
    "start_time": "2022-09-16T17:10:32.765Z"
   },
   {
    "duration": 36,
    "start_time": "2022-09-16T17:10:32.775Z"
   },
   {
    "duration": 17,
    "start_time": "2022-09-16T17:10:32.812Z"
   },
   {
    "duration": 7,
    "start_time": "2022-09-16T17:10:32.831Z"
   },
   {
    "duration": 7,
    "start_time": "2022-09-16T17:10:32.839Z"
   },
   {
    "duration": 140,
    "start_time": "2022-09-16T17:10:32.847Z"
   },
   {
    "duration": 37,
    "start_time": "2022-09-16T17:10:32.988Z"
   },
   {
    "duration": 26,
    "start_time": "2022-09-16T17:10:33.027Z"
   },
   {
    "duration": 6,
    "start_time": "2022-09-16T17:10:33.054Z"
   },
   {
    "duration": 9,
    "start_time": "2022-09-16T17:10:33.061Z"
   },
   {
    "duration": 7,
    "start_time": "2022-09-16T17:10:33.072Z"
   },
   {
    "duration": 31,
    "start_time": "2022-09-16T17:10:33.083Z"
   },
   {
    "duration": 75,
    "start_time": "2022-09-16T17:10:33.115Z"
   },
   {
    "duration": 33,
    "start_time": "2022-09-16T17:10:33.191Z"
   },
   {
    "duration": 280,
    "start_time": "2022-09-16T17:10:33.226Z"
   },
   {
    "duration": 131,
    "start_time": "2022-09-16T17:10:33.508Z"
   },
   {
    "duration": 8,
    "start_time": "2022-09-16T17:10:33.640Z"
   },
   {
    "duration": 115,
    "start_time": "2022-09-16T17:10:33.649Z"
   },
   {
    "duration": 6,
    "start_time": "2022-09-16T17:10:33.765Z"
   },
   {
    "duration": 134,
    "start_time": "2022-09-16T17:10:33.773Z"
   },
   {
    "duration": 9,
    "start_time": "2022-09-16T17:10:33.908Z"
   },
   {
    "duration": 119,
    "start_time": "2022-09-16T17:10:33.919Z"
   },
   {
    "duration": 7,
    "start_time": "2022-09-16T17:10:34.040Z"
   },
   {
    "duration": 5,
    "start_time": "2022-09-16T17:10:34.049Z"
   },
   {
    "duration": 21,
    "start_time": "2022-09-16T17:10:34.055Z"
   },
   {
    "duration": 5,
    "start_time": "2022-09-16T17:10:34.078Z"
   },
   {
    "duration": 6,
    "start_time": "2022-09-16T17:10:34.109Z"
   },
   {
    "duration": 14,
    "start_time": "2022-09-16T17:10:34.117Z"
   },
   {
    "duration": 280,
    "start_time": "2022-09-16T17:10:34.132Z"
   },
   {
    "duration": 265,
    "start_time": "2022-09-16T17:10:34.414Z"
   },
   {
    "duration": 4,
    "start_time": "2022-09-16T17:10:34.680Z"
   },
   {
    "duration": 646,
    "start_time": "2022-09-16T17:10:34.686Z"
   },
   {
    "duration": 5,
    "start_time": "2022-09-16T17:10:35.333Z"
   },
   {
    "duration": 256,
    "start_time": "2022-09-16T17:10:35.340Z"
   },
   {
    "duration": 250,
    "start_time": "2022-09-16T17:10:35.597Z"
   },
   {
    "duration": 244,
    "start_time": "2022-09-16T17:10:35.849Z"
   },
   {
    "duration": 137,
    "start_time": "2022-09-16T17:10:36.095Z"
   },
   {
    "duration": 127,
    "start_time": "2022-09-16T17:10:36.233Z"
   },
   {
    "duration": 429,
    "start_time": "2022-09-16T17:10:36.362Z"
   },
   {
    "duration": 135,
    "start_time": "2022-09-16T17:10:36.792Z"
   },
   {
    "duration": 127,
    "start_time": "2022-09-16T17:10:36.928Z"
   },
   {
    "duration": 162,
    "start_time": "2022-09-16T17:10:37.057Z"
   },
   {
    "duration": 173,
    "start_time": "2022-09-16T17:10:37.220Z"
   },
   {
    "duration": 161,
    "start_time": "2022-09-16T17:10:37.394Z"
   },
   {
    "duration": 9,
    "start_time": "2022-09-16T17:10:37.557Z"
   },
   {
    "duration": 223,
    "start_time": "2022-09-16T17:10:37.568Z"
   },
   {
    "duration": 17,
    "start_time": "2022-09-16T17:10:37.792Z"
   },
   {
    "duration": 171,
    "start_time": "2022-09-16T17:10:37.810Z"
   },
   {
    "duration": 113,
    "start_time": "2022-09-16T17:10:37.982Z"
   },
   {
    "duration": 0,
    "start_time": "2022-09-16T17:10:38.096Z"
   },
   {
    "duration": 0,
    "start_time": "2022-09-16T17:10:38.098Z"
   },
   {
    "duration": 421,
    "start_time": "2022-09-16T17:10:58.071Z"
   },
   {
    "duration": 381,
    "start_time": "2022-09-16T17:11:20.539Z"
   },
   {
    "duration": 168,
    "start_time": "2022-09-16T17:16:09.461Z"
   },
   {
    "duration": 9,
    "start_time": "2022-09-16T18:10:16.021Z"
   },
   {
    "duration": 8,
    "start_time": "2022-09-16T18:10:20.446Z"
   },
   {
    "duration": 991,
    "start_time": "2022-09-16T18:20:08.918Z"
   },
   {
    "duration": 91,
    "start_time": "2022-09-16T18:20:09.911Z"
   },
   {
    "duration": 15,
    "start_time": "2022-09-16T18:20:10.003Z"
   },
   {
    "duration": 31,
    "start_time": "2022-09-16T18:20:10.019Z"
   },
   {
    "duration": 53,
    "start_time": "2022-09-16T18:20:10.052Z"
   },
   {
    "duration": 896,
    "start_time": "2022-09-16T18:20:10.106Z"
   },
   {
    "duration": 142,
    "start_time": "2022-09-16T18:20:11.008Z"
   },
   {
    "duration": 179,
    "start_time": "2022-09-16T18:20:11.152Z"
   },
   {
    "duration": 3,
    "start_time": "2022-09-16T18:20:11.333Z"
   },
   {
    "duration": 4,
    "start_time": "2022-09-16T18:20:11.338Z"
   },
   {
    "duration": 5,
    "start_time": "2022-09-16T18:20:11.344Z"
   },
   {
    "duration": 3,
    "start_time": "2022-09-16T18:20:11.351Z"
   },
   {
    "duration": 10,
    "start_time": "2022-09-16T18:20:11.355Z"
   },
   {
    "duration": 11,
    "start_time": "2022-09-16T18:20:11.368Z"
   },
   {
    "duration": 34,
    "start_time": "2022-09-16T18:20:11.380Z"
   },
   {
    "duration": 9,
    "start_time": "2022-09-16T18:20:11.416Z"
   },
   {
    "duration": 10,
    "start_time": "2022-09-16T18:20:11.426Z"
   },
   {
    "duration": 13,
    "start_time": "2022-09-16T18:20:11.438Z"
   },
   {
    "duration": 19,
    "start_time": "2022-09-16T18:20:11.452Z"
   },
   {
    "duration": 41,
    "start_time": "2022-09-16T18:20:11.473Z"
   },
   {
    "duration": 10,
    "start_time": "2022-09-16T18:20:11.515Z"
   },
   {
    "duration": 129,
    "start_time": "2022-09-16T18:20:11.526Z"
   },
   {
    "duration": 28,
    "start_time": "2022-09-16T18:20:11.657Z"
   },
   {
    "duration": 40,
    "start_time": "2022-09-16T18:20:11.687Z"
   },
   {
    "duration": 7,
    "start_time": "2022-09-16T18:20:11.729Z"
   },
   {
    "duration": 7,
    "start_time": "2022-09-16T18:20:11.737Z"
   },
   {
    "duration": 6,
    "start_time": "2022-09-16T18:20:11.745Z"
   },
   {
    "duration": 6,
    "start_time": "2022-09-16T18:20:11.753Z"
   },
   {
    "duration": 4,
    "start_time": "2022-09-16T18:20:11.761Z"
   },
   {
    "duration": 123,
    "start_time": "2022-09-16T18:20:11.766Z"
   },
   {
    "duration": 286,
    "start_time": "2022-09-16T18:20:11.890Z"
   },
   {
    "duration": 126,
    "start_time": "2022-09-16T18:20:12.177Z"
   },
   {
    "duration": 8,
    "start_time": "2022-09-16T18:20:12.304Z"
   },
   {
    "duration": 112,
    "start_time": "2022-09-16T18:20:12.314Z"
   },
   {
    "duration": 5,
    "start_time": "2022-09-16T18:20:12.428Z"
   },
   {
    "duration": 131,
    "start_time": "2022-09-16T18:20:12.434Z"
   },
   {
    "duration": 8,
    "start_time": "2022-09-16T18:20:12.567Z"
   },
   {
    "duration": 133,
    "start_time": "2022-09-16T18:20:12.576Z"
   },
   {
    "duration": 6,
    "start_time": "2022-09-16T18:20:12.710Z"
   },
   {
    "duration": 3,
    "start_time": "2022-09-16T18:20:12.718Z"
   },
   {
    "duration": 18,
    "start_time": "2022-09-16T18:20:12.725Z"
   },
   {
    "duration": 3,
    "start_time": "2022-09-16T18:20:12.745Z"
   },
   {
    "duration": 5,
    "start_time": "2022-09-16T18:20:12.750Z"
   },
   {
    "duration": 14,
    "start_time": "2022-09-16T18:20:12.756Z"
   },
   {
    "duration": 304,
    "start_time": "2022-09-16T18:20:12.771Z"
   },
   {
    "duration": 261,
    "start_time": "2022-09-16T18:20:13.076Z"
   },
   {
    "duration": 4,
    "start_time": "2022-09-16T18:20:13.338Z"
   },
   {
    "duration": 664,
    "start_time": "2022-09-16T18:20:13.344Z"
   },
   {
    "duration": 6,
    "start_time": "2022-09-16T18:20:14.010Z"
   },
   {
    "duration": 259,
    "start_time": "2022-09-16T18:20:14.017Z"
   },
   {
    "duration": 249,
    "start_time": "2022-09-16T18:20:14.278Z"
   },
   {
    "duration": 244,
    "start_time": "2022-09-16T18:20:14.529Z"
   },
   {
    "duration": 149,
    "start_time": "2022-09-16T18:20:14.775Z"
   },
   {
    "duration": 128,
    "start_time": "2022-09-16T18:20:14.926Z"
   },
   {
    "duration": 434,
    "start_time": "2022-09-16T18:20:15.056Z"
   },
   {
    "duration": 134,
    "start_time": "2022-09-16T18:20:15.491Z"
   },
   {
    "duration": 136,
    "start_time": "2022-09-16T18:20:15.626Z"
   },
   {
    "duration": 158,
    "start_time": "2022-09-16T18:20:15.764Z"
   },
   {
    "duration": 170,
    "start_time": "2022-09-16T18:20:15.924Z"
   },
   {
    "duration": 163,
    "start_time": "2022-09-16T18:20:16.096Z"
   },
   {
    "duration": 9,
    "start_time": "2022-09-16T18:20:16.261Z"
   },
   {
    "duration": 230,
    "start_time": "2022-09-16T18:20:16.271Z"
   },
   {
    "duration": 14,
    "start_time": "2022-09-16T18:20:16.502Z"
   },
   {
    "duration": 177,
    "start_time": "2022-09-16T18:20:16.517Z"
   },
   {
    "duration": 457,
    "start_time": "2022-09-16T18:20:16.695Z"
   },
   {
    "duration": 6,
    "start_time": "2022-09-16T18:20:17.154Z"
   },
   {
    "duration": 28,
    "start_time": "2022-09-16T18:20:17.162Z"
   },
   {
    "duration": 1002,
    "start_time": "2022-09-16T18:33:42.394Z"
   },
   {
    "duration": 90,
    "start_time": "2022-09-16T18:33:43.398Z"
   },
   {
    "duration": 15,
    "start_time": "2022-09-16T18:33:43.489Z"
   },
   {
    "duration": 14,
    "start_time": "2022-09-16T18:33:43.506Z"
   },
   {
    "duration": 24,
    "start_time": "2022-09-16T18:33:43.521Z"
   },
   {
    "duration": 913,
    "start_time": "2022-09-16T18:33:43.547Z"
   },
   {
    "duration": 149,
    "start_time": "2022-09-16T18:33:44.462Z"
   },
   {
    "duration": 175,
    "start_time": "2022-09-16T18:33:44.613Z"
   },
   {
    "duration": 4,
    "start_time": "2022-09-16T18:33:44.790Z"
   },
   {
    "duration": 16,
    "start_time": "2022-09-16T18:33:44.795Z"
   },
   {
    "duration": 31,
    "start_time": "2022-09-16T18:33:44.813Z"
   },
   {
    "duration": 6,
    "start_time": "2022-09-16T18:33:44.846Z"
   },
   {
    "duration": 24,
    "start_time": "2022-09-16T18:33:44.853Z"
   },
   {
    "duration": 11,
    "start_time": "2022-09-16T18:33:44.880Z"
   },
   {
    "duration": 22,
    "start_time": "2022-09-16T18:33:44.892Z"
   },
   {
    "duration": 31,
    "start_time": "2022-09-16T18:33:44.916Z"
   },
   {
    "duration": 8,
    "start_time": "2022-09-16T18:33:44.949Z"
   },
   {
    "duration": 20,
    "start_time": "2022-09-16T18:33:44.958Z"
   },
   {
    "duration": 18,
    "start_time": "2022-09-16T18:33:44.979Z"
   },
   {
    "duration": 37,
    "start_time": "2022-09-16T18:33:44.998Z"
   },
   {
    "duration": 24,
    "start_time": "2022-09-16T18:33:45.037Z"
   },
   {
    "duration": 126,
    "start_time": "2022-09-16T18:33:45.063Z"
   },
   {
    "duration": 31,
    "start_time": "2022-09-16T18:33:45.191Z"
   },
   {
    "duration": 26,
    "start_time": "2022-09-16T18:33:45.224Z"
   },
   {
    "duration": 7,
    "start_time": "2022-09-16T18:33:45.251Z"
   },
   {
    "duration": 20,
    "start_time": "2022-09-16T18:33:45.259Z"
   },
   {
    "duration": 9,
    "start_time": "2022-09-16T18:33:45.281Z"
   },
   {
    "duration": 7,
    "start_time": "2022-09-16T18:33:45.292Z"
   },
   {
    "duration": 18,
    "start_time": "2022-09-16T18:33:45.300Z"
   },
   {
    "duration": 90,
    "start_time": "2022-09-16T18:33:45.319Z"
   },
   {
    "duration": 277,
    "start_time": "2022-09-16T18:33:45.411Z"
   },
   {
    "duration": 126,
    "start_time": "2022-09-16T18:33:45.689Z"
   },
   {
    "duration": 7,
    "start_time": "2022-09-16T18:33:45.816Z"
   },
   {
    "duration": 113,
    "start_time": "2022-09-16T18:33:45.824Z"
   },
   {
    "duration": 6,
    "start_time": "2022-09-16T18:33:45.939Z"
   },
   {
    "duration": 119,
    "start_time": "2022-09-16T18:33:45.946Z"
   },
   {
    "duration": 7,
    "start_time": "2022-09-16T18:33:46.066Z"
   },
   {
    "duration": 168,
    "start_time": "2022-09-16T18:33:46.074Z"
   },
   {
    "duration": 7,
    "start_time": "2022-09-16T18:33:46.243Z"
   },
   {
    "duration": 58,
    "start_time": "2022-09-16T18:33:46.251Z"
   },
   {
    "duration": 15,
    "start_time": "2022-09-16T18:33:46.313Z"
   },
   {
    "duration": 4,
    "start_time": "2022-09-16T18:33:46.329Z"
   },
   {
    "duration": 7,
    "start_time": "2022-09-16T18:33:46.334Z"
   },
   {
    "duration": 13,
    "start_time": "2022-09-16T18:33:46.342Z"
   },
   {
    "duration": 521,
    "start_time": "2022-09-16T18:33:46.409Z"
   },
   {
    "duration": 517,
    "start_time": "2022-09-16T18:33:46.932Z"
   },
   {
    "duration": 59,
    "start_time": "2022-09-16T18:33:47.450Z"
   },
   {
    "duration": 783,
    "start_time": "2022-09-16T18:33:47.510Z"
   },
   {
    "duration": 5,
    "start_time": "2022-09-16T18:33:48.294Z"
   },
   {
    "duration": 227,
    "start_time": "2022-09-16T18:33:48.300Z"
   },
   {
    "duration": 243,
    "start_time": "2022-09-16T18:33:48.529Z"
   },
   {
    "duration": 248,
    "start_time": "2022-09-16T18:33:48.773Z"
   },
   {
    "duration": 139,
    "start_time": "2022-09-16T18:33:49.022Z"
   },
   {
    "duration": 126,
    "start_time": "2022-09-16T18:33:49.162Z"
   },
   {
    "duration": 408,
    "start_time": "2022-09-16T18:33:49.290Z"
   },
   {
    "duration": 125,
    "start_time": "2022-09-16T18:33:49.708Z"
   },
   {
    "duration": 125,
    "start_time": "2022-09-16T18:33:49.834Z"
   },
   {
    "duration": 161,
    "start_time": "2022-09-16T18:33:49.961Z"
   },
   {
    "duration": 169,
    "start_time": "2022-09-16T18:33:50.124Z"
   },
   {
    "duration": 161,
    "start_time": "2022-09-16T18:33:50.295Z"
   },
   {
    "duration": 9,
    "start_time": "2022-09-16T18:33:50.458Z"
   },
   {
    "duration": 233,
    "start_time": "2022-09-16T18:33:50.468Z"
   },
   {
    "duration": 12,
    "start_time": "2022-09-16T18:33:50.702Z"
   },
   {
    "duration": 174,
    "start_time": "2022-09-16T18:33:50.716Z"
   },
   {
    "duration": 455,
    "start_time": "2022-09-16T18:33:50.892Z"
   },
   {
    "duration": 7,
    "start_time": "2022-09-16T18:33:51.348Z"
   },
   {
    "duration": 13,
    "start_time": "2022-09-16T18:33:51.356Z"
   },
   {
    "duration": 1015,
    "start_time": "2022-09-16T18:34:18.588Z"
   },
   {
    "duration": 95,
    "start_time": "2022-09-16T18:34:19.605Z"
   },
   {
    "duration": 15,
    "start_time": "2022-09-16T18:34:19.702Z"
   },
   {
    "duration": 12,
    "start_time": "2022-09-16T18:34:19.720Z"
   },
   {
    "duration": 24,
    "start_time": "2022-09-16T18:34:19.733Z"
   },
   {
    "duration": 908,
    "start_time": "2022-09-16T18:34:19.758Z"
   },
   {
    "duration": 153,
    "start_time": "2022-09-16T18:34:20.668Z"
   },
   {
    "duration": 178,
    "start_time": "2022-09-16T18:34:20.822Z"
   },
   {
    "duration": 9,
    "start_time": "2022-09-16T18:34:21.001Z"
   },
   {
    "duration": 15,
    "start_time": "2022-09-16T18:34:21.012Z"
   },
   {
    "duration": 16,
    "start_time": "2022-09-16T18:34:21.028Z"
   },
   {
    "duration": 23,
    "start_time": "2022-09-16T18:34:21.045Z"
   },
   {
    "duration": 20,
    "start_time": "2022-09-16T18:34:21.069Z"
   },
   {
    "duration": 24,
    "start_time": "2022-09-16T18:34:21.090Z"
   },
   {
    "duration": 21,
    "start_time": "2022-09-16T18:34:21.115Z"
   },
   {
    "duration": 22,
    "start_time": "2022-09-16T18:34:21.137Z"
   },
   {
    "duration": 24,
    "start_time": "2022-09-16T18:34:21.160Z"
   },
   {
    "duration": 14,
    "start_time": "2022-09-16T18:34:21.185Z"
   },
   {
    "duration": 26,
    "start_time": "2022-09-16T18:34:21.200Z"
   },
   {
    "duration": 16,
    "start_time": "2022-09-16T18:34:21.227Z"
   },
   {
    "duration": 15,
    "start_time": "2022-09-16T18:34:21.244Z"
   },
   {
    "duration": 131,
    "start_time": "2022-09-16T18:34:21.260Z"
   },
   {
    "duration": 32,
    "start_time": "2022-09-16T18:34:21.392Z"
   },
   {
    "duration": 27,
    "start_time": "2022-09-16T18:34:21.425Z"
   },
   {
    "duration": 6,
    "start_time": "2022-09-16T18:34:21.454Z"
   },
   {
    "duration": 7,
    "start_time": "2022-09-16T18:34:21.461Z"
   },
   {
    "duration": 6,
    "start_time": "2022-09-16T18:34:21.469Z"
   },
   {
    "duration": 30,
    "start_time": "2022-09-16T18:34:21.479Z"
   },
   {
    "duration": 76,
    "start_time": "2022-09-16T18:34:21.511Z"
   },
   {
    "duration": 33,
    "start_time": "2022-09-16T18:34:21.589Z"
   },
   {
    "duration": 286,
    "start_time": "2022-09-16T18:34:21.624Z"
   },
   {
    "duration": 127,
    "start_time": "2022-09-16T18:34:21.912Z"
   },
   {
    "duration": 8,
    "start_time": "2022-09-16T18:34:22.041Z"
   },
   {
    "duration": 122,
    "start_time": "2022-09-16T18:34:22.050Z"
   },
   {
    "duration": 7,
    "start_time": "2022-09-16T18:34:22.174Z"
   },
   {
    "duration": 123,
    "start_time": "2022-09-16T18:34:22.182Z"
   },
   {
    "duration": 6,
    "start_time": "2022-09-16T18:34:22.309Z"
   },
   {
    "duration": 121,
    "start_time": "2022-09-16T18:34:22.317Z"
   },
   {
    "duration": 6,
    "start_time": "2022-09-16T18:34:22.439Z"
   },
   {
    "duration": 7,
    "start_time": "2022-09-16T18:34:22.446Z"
   },
   {
    "duration": 21,
    "start_time": "2022-09-16T18:34:22.454Z"
   },
   {
    "duration": 4,
    "start_time": "2022-09-16T18:34:22.477Z"
   },
   {
    "duration": 6,
    "start_time": "2022-09-16T18:34:22.482Z"
   },
   {
    "duration": 32,
    "start_time": "2022-09-16T18:34:22.490Z"
   },
   {
    "duration": 312,
    "start_time": "2022-09-16T18:34:22.524Z"
   },
   {
    "duration": 259,
    "start_time": "2022-09-16T18:34:22.838Z"
   },
   {
    "duration": 12,
    "start_time": "2022-09-16T18:34:23.098Z"
   },
   {
    "duration": 644,
    "start_time": "2022-09-16T18:34:23.111Z"
   },
   {
    "duration": 6,
    "start_time": "2022-09-16T18:34:23.756Z"
   },
   {
    "duration": 251,
    "start_time": "2022-09-16T18:34:23.763Z"
   },
   {
    "duration": 258,
    "start_time": "2022-09-16T18:34:24.015Z"
   },
   {
    "duration": 245,
    "start_time": "2022-09-16T18:34:24.275Z"
   },
   {
    "duration": 142,
    "start_time": "2022-09-16T18:34:24.522Z"
   },
   {
    "duration": 130,
    "start_time": "2022-09-16T18:34:24.665Z"
   },
   {
    "duration": 417,
    "start_time": "2022-09-16T18:34:24.796Z"
   },
   {
    "duration": 123,
    "start_time": "2022-09-16T18:34:25.214Z"
   },
   {
    "duration": 125,
    "start_time": "2022-09-16T18:34:25.339Z"
   },
   {
    "duration": 158,
    "start_time": "2022-09-16T18:34:25.466Z"
   },
   {
    "duration": 173,
    "start_time": "2022-09-16T18:34:25.626Z"
   },
   {
    "duration": 160,
    "start_time": "2022-09-16T18:34:25.808Z"
   },
   {
    "duration": 9,
    "start_time": "2022-09-16T18:34:25.970Z"
   },
   {
    "duration": 233,
    "start_time": "2022-09-16T18:34:25.981Z"
   },
   {
    "duration": 9,
    "start_time": "2022-09-16T18:34:26.216Z"
   },
   {
    "duration": 183,
    "start_time": "2022-09-16T18:34:26.226Z"
   },
   {
    "duration": 461,
    "start_time": "2022-09-16T18:34:26.410Z"
   },
   {
    "duration": 8,
    "start_time": "2022-09-16T18:34:26.872Z"
   },
   {
    "duration": 11,
    "start_time": "2022-09-16T18:34:26.881Z"
   },
   {
    "duration": 1237,
    "start_time": "2022-09-17T13:58:03.261Z"
   },
   {
    "duration": 150,
    "start_time": "2022-09-17T13:58:04.501Z"
   },
   {
    "duration": 19,
    "start_time": "2022-09-17T13:58:04.653Z"
   },
   {
    "duration": 15,
    "start_time": "2022-09-17T13:58:04.674Z"
   },
   {
    "duration": 32,
    "start_time": "2022-09-17T13:58:04.691Z"
   },
   {
    "duration": 1227,
    "start_time": "2022-09-17T13:58:04.726Z"
   },
   {
    "duration": 218,
    "start_time": "2022-09-17T13:58:05.955Z"
   },
   {
    "duration": 266,
    "start_time": "2022-09-17T13:58:06.174Z"
   },
   {
    "duration": 4,
    "start_time": "2022-09-17T13:58:06.442Z"
   },
   {
    "duration": 5,
    "start_time": "2022-09-17T13:58:06.449Z"
   },
   {
    "duration": 6,
    "start_time": "2022-09-17T13:58:06.456Z"
   },
   {
    "duration": 7,
    "start_time": "2022-09-17T13:58:06.464Z"
   },
   {
    "duration": 17,
    "start_time": "2022-09-17T13:58:06.472Z"
   },
   {
    "duration": 32,
    "start_time": "2022-09-17T13:58:06.490Z"
   },
   {
    "duration": 13,
    "start_time": "2022-09-17T13:58:06.524Z"
   },
   {
    "duration": 13,
    "start_time": "2022-09-17T13:58:06.539Z"
   },
   {
    "duration": 10,
    "start_time": "2022-09-17T13:58:06.553Z"
   },
   {
    "duration": 16,
    "start_time": "2022-09-17T13:58:06.565Z"
   },
   {
    "duration": 67,
    "start_time": "2022-09-17T13:58:06.583Z"
   },
   {
    "duration": 7,
    "start_time": "2022-09-17T13:58:06.652Z"
   },
   {
    "duration": 11,
    "start_time": "2022-09-17T13:58:06.661Z"
   },
   {
    "duration": 174,
    "start_time": "2022-09-17T13:58:06.674Z"
   },
   {
    "duration": 35,
    "start_time": "2022-09-17T13:58:06.850Z"
   },
   {
    "duration": 51,
    "start_time": "2022-09-17T13:58:06.887Z"
   },
   {
    "duration": 9,
    "start_time": "2022-09-17T13:58:06.940Z"
   },
   {
    "duration": 8,
    "start_time": "2022-09-17T13:58:06.951Z"
   },
   {
    "duration": 7,
    "start_time": "2022-09-17T13:58:06.961Z"
   },
   {
    "duration": 120,
    "start_time": "2022-09-17T13:58:06.971Z"
   },
   {
    "duration": 6,
    "start_time": "2022-09-17T13:58:07.092Z"
   },
   {
    "duration": 35,
    "start_time": "2022-09-17T13:58:07.099Z"
   },
   {
    "duration": 386,
    "start_time": "2022-09-17T13:58:07.136Z"
   },
   {
    "duration": 158,
    "start_time": "2022-09-17T13:58:07.524Z"
   },
   {
    "duration": 7,
    "start_time": "2022-09-17T13:58:07.684Z"
   },
   {
    "duration": 166,
    "start_time": "2022-09-17T13:58:07.693Z"
   },
   {
    "duration": 7,
    "start_time": "2022-09-17T13:58:07.861Z"
   },
   {
    "duration": 183,
    "start_time": "2022-09-17T13:58:07.870Z"
   },
   {
    "duration": 7,
    "start_time": "2022-09-17T13:58:08.055Z"
   },
   {
    "duration": 137,
    "start_time": "2022-09-17T13:58:08.064Z"
   },
   {
    "duration": 6,
    "start_time": "2022-09-17T13:58:08.203Z"
   },
   {
    "duration": 10,
    "start_time": "2022-09-17T13:58:08.211Z"
   },
   {
    "duration": 52,
    "start_time": "2022-09-17T13:58:08.223Z"
   },
   {
    "duration": 5,
    "start_time": "2022-09-17T13:58:08.277Z"
   },
   {
    "duration": 12,
    "start_time": "2022-09-17T13:58:08.283Z"
   },
   {
    "duration": 15,
    "start_time": "2022-09-17T13:58:08.297Z"
   },
   {
    "duration": 335,
    "start_time": "2022-09-17T13:58:08.313Z"
   },
   {
    "duration": 379,
    "start_time": "2022-09-17T13:58:08.650Z"
   },
   {
    "duration": 6,
    "start_time": "2022-09-17T13:58:09.032Z"
   },
   {
    "duration": 899,
    "start_time": "2022-09-17T13:58:09.040Z"
   },
   {
    "duration": 7,
    "start_time": "2022-09-17T13:58:09.941Z"
   },
   {
    "duration": 320,
    "start_time": "2022-09-17T13:58:09.949Z"
   },
   {
    "duration": 313,
    "start_time": "2022-09-17T13:58:10.271Z"
   },
   {
    "duration": 312,
    "start_time": "2022-09-17T13:58:10.586Z"
   },
   {
    "duration": 184,
    "start_time": "2022-09-17T13:58:10.900Z"
   },
   {
    "duration": 170,
    "start_time": "2022-09-17T13:58:11.085Z"
   },
   {
    "duration": 533,
    "start_time": "2022-09-17T13:58:11.257Z"
   },
   {
    "duration": 182,
    "start_time": "2022-09-17T13:58:11.792Z"
   },
   {
    "duration": 161,
    "start_time": "2022-09-17T13:58:11.976Z"
   },
   {
    "duration": 214,
    "start_time": "2022-09-17T13:58:12.140Z"
   },
   {
    "duration": 228,
    "start_time": "2022-09-17T13:58:12.355Z"
   },
   {
    "duration": 208,
    "start_time": "2022-09-17T13:58:12.584Z"
   },
   {
    "duration": 11,
    "start_time": "2022-09-17T13:58:12.793Z"
   },
   {
    "duration": 269,
    "start_time": "2022-09-17T13:58:12.827Z"
   },
   {
    "duration": 10,
    "start_time": "2022-09-17T13:58:13.098Z"
   },
   {
    "duration": 241,
    "start_time": "2022-09-17T13:58:13.110Z"
   },
   {
    "duration": 719,
    "start_time": "2022-09-17T13:58:13.352Z"
   },
   {
    "duration": 8,
    "start_time": "2022-09-17T13:58:14.073Z"
   },
   {
    "duration": 11,
    "start_time": "2022-09-17T13:58:14.083Z"
   },
   {
    "duration": 28,
    "start_time": "2022-09-17T14:04:28.516Z"
   },
   {
    "duration": 1168,
    "start_time": "2022-09-17T14:05:05.426Z"
   },
   {
    "duration": 111,
    "start_time": "2022-09-17T14:05:06.597Z"
   },
   {
    "duration": 20,
    "start_time": "2022-09-17T14:05:06.710Z"
   },
   {
    "duration": 16,
    "start_time": "2022-09-17T14:05:06.734Z"
   },
   {
    "duration": 32,
    "start_time": "2022-09-17T14:05:06.752Z"
   },
   {
    "duration": 1260,
    "start_time": "2022-09-17T14:05:06.786Z"
   },
   {
    "duration": 198,
    "start_time": "2022-09-17T14:05:08.048Z"
   },
   {
    "duration": 234,
    "start_time": "2022-09-17T14:05:08.248Z"
   },
   {
    "duration": 4,
    "start_time": "2022-09-17T14:05:08.484Z"
   },
   {
    "duration": 27,
    "start_time": "2022-09-17T14:05:08.491Z"
   },
   {
    "duration": 29,
    "start_time": "2022-09-17T14:05:08.520Z"
   },
   {
    "duration": 31,
    "start_time": "2022-09-17T14:05:08.551Z"
   },
   {
    "duration": 11,
    "start_time": "2022-09-17T14:05:08.584Z"
   },
   {
    "duration": 16,
    "start_time": "2022-09-17T14:05:08.597Z"
   },
   {
    "duration": 12,
    "start_time": "2022-09-17T14:05:08.615Z"
   },
   {
    "duration": 27,
    "start_time": "2022-09-17T14:05:08.629Z"
   },
   {
    "duration": 10,
    "start_time": "2022-09-17T14:05:08.658Z"
   },
   {
    "duration": 20,
    "start_time": "2022-09-17T14:05:08.669Z"
   },
   {
    "duration": 31,
    "start_time": "2022-09-17T14:05:08.691Z"
   },
   {
    "duration": 14,
    "start_time": "2022-09-17T14:05:08.725Z"
   },
   {
    "duration": 23,
    "start_time": "2022-09-17T14:05:08.741Z"
   },
   {
    "duration": 164,
    "start_time": "2022-09-17T14:05:08.767Z"
   },
   {
    "duration": 49,
    "start_time": "2022-09-17T14:05:08.933Z"
   },
   {
    "duration": 72,
    "start_time": "2022-09-17T14:05:08.984Z"
   },
   {
    "duration": 10,
    "start_time": "2022-09-17T14:05:09.058Z"
   },
   {
    "duration": 15,
    "start_time": "2022-09-17T14:05:09.070Z"
   },
   {
    "duration": 10,
    "start_time": "2022-09-17T14:05:09.087Z"
   },
   {
    "duration": 136,
    "start_time": "2022-09-17T14:05:09.126Z"
   },
   {
    "duration": 10,
    "start_time": "2022-09-17T14:05:09.264Z"
   },
   {
    "duration": 41,
    "start_time": "2022-09-17T14:05:09.276Z"
   },
   {
    "duration": 408,
    "start_time": "2022-09-17T14:05:09.319Z"
   },
   {
    "duration": 165,
    "start_time": "2022-09-17T14:05:09.730Z"
   },
   {
    "duration": 8,
    "start_time": "2022-09-17T14:05:09.897Z"
   },
   {
    "duration": 168,
    "start_time": "2022-09-17T14:05:09.906Z"
   },
   {
    "duration": 7,
    "start_time": "2022-09-17T14:05:10.076Z"
   },
   {
    "duration": 178,
    "start_time": "2022-09-17T14:05:10.085Z"
   },
   {
    "duration": 8,
    "start_time": "2022-09-17T14:05:10.264Z"
   },
   {
    "duration": 187,
    "start_time": "2022-09-17T14:05:10.274Z"
   },
   {
    "duration": 8,
    "start_time": "2022-09-17T14:05:10.463Z"
   },
   {
    "duration": 12,
    "start_time": "2022-09-17T14:05:10.473Z"
   },
   {
    "duration": 39,
    "start_time": "2022-09-17T14:05:10.487Z"
   },
   {
    "duration": 13,
    "start_time": "2022-09-17T14:05:10.530Z"
   },
   {
    "duration": 11,
    "start_time": "2022-09-17T14:05:10.546Z"
   },
   {
    "duration": 21,
    "start_time": "2022-09-17T14:05:10.558Z"
   },
   {
    "duration": 384,
    "start_time": "2022-09-17T14:05:10.581Z"
   },
   {
    "duration": 351,
    "start_time": "2022-09-17T14:05:10.966Z"
   },
   {
    "duration": 11,
    "start_time": "2022-09-17T14:05:11.321Z"
   },
   {
    "duration": 922,
    "start_time": "2022-09-17T14:05:11.335Z"
   },
   {
    "duration": 7,
    "start_time": "2022-09-17T14:05:12.259Z"
   },
   {
    "duration": 319,
    "start_time": "2022-09-17T14:05:12.267Z"
   },
   {
    "duration": 326,
    "start_time": "2022-09-17T14:05:12.587Z"
   },
   {
    "duration": 334,
    "start_time": "2022-09-17T14:05:12.915Z"
   },
   {
    "duration": 172,
    "start_time": "2022-09-17T14:05:13.252Z"
   },
   {
    "duration": 165,
    "start_time": "2022-09-17T14:05:13.427Z"
   },
   {
    "duration": 482,
    "start_time": "2022-09-17T14:05:13.594Z"
   },
   {
    "duration": 170,
    "start_time": "2022-09-17T14:05:14.078Z"
   },
   {
    "duration": 151,
    "start_time": "2022-09-17T14:05:14.249Z"
   },
   {
    "duration": 207,
    "start_time": "2022-09-17T14:05:14.402Z"
   },
   {
    "duration": 239,
    "start_time": "2022-09-17T14:05:14.610Z"
   },
   {
    "duration": 215,
    "start_time": "2022-09-17T14:05:14.850Z"
   },
   {
    "duration": 10,
    "start_time": "2022-09-17T14:05:15.067Z"
   },
   {
    "duration": 312,
    "start_time": "2022-09-17T14:05:15.079Z"
   },
   {
    "duration": 10,
    "start_time": "2022-09-17T14:05:15.393Z"
   },
   {
    "duration": 243,
    "start_time": "2022-09-17T14:05:15.404Z"
   },
   {
    "duration": 554,
    "start_time": "2022-09-17T14:05:15.649Z"
   },
   {
    "duration": 21,
    "start_time": "2022-09-17T14:05:16.205Z"
   },
   {
    "duration": 40,
    "start_time": "2022-09-17T14:05:16.229Z"
   }
  ],
  "kernelspec": {
   "display_name": "Python 3 (ipykernel)",
   "language": "python",
   "name": "python3"
  },
  "language_info": {
   "codemirror_mode": {
    "name": "ipython",
    "version": 3
   },
   "file_extension": ".py",
   "mimetype": "text/x-python",
   "name": "python",
   "nbconvert_exporter": "python",
   "pygments_lexer": "ipython3",
   "version": "3.8.10"
  },
  "toc": {
   "base_numbering": 1,
   "nav_menu": {},
   "number_sections": true,
   "sideBar": true,
   "skip_h1_title": true,
   "title_cell": "Table of Contents",
   "title_sidebar": "Contents",
   "toc_cell": false,
   "toc_position": {},
   "toc_section_display": true,
   "toc_window_display": true
  }
 },
 "nbformat": 4,
 "nbformat_minor": 2
}
